{
 "metadata": {
  "kernelspec": {
   "display_name": "Python 3",
   "language": "python",
   "name": "python3"
  },
  "language_info": {
   "codemirror_mode": {
    "name": "ipython",
    "version": 3
   },
   "file_extension": ".py",
   "mimetype": "text/x-python",
   "name": "python",
   "nbconvert_exporter": "python",
   "pygments_lexer": "ipython3",
   "version": "3.6.3"
  },
  "name": "",
  "signature": "sha256:3eacfb0ecc948575675f53b91fa1aedc59f074fe09481bd18171cc14cd0f8b1f"
 },
 "nbformat": 3,
 "nbformat_minor": 0,
 "worksheets": [
  {
   "cells": [
    {
     "cell_type": "markdown",
     "metadata": {
      "nbpresent": {
       "id": "18cde020-8365-4923-8590-7d111b4a41f8"
      }
     },
     "source": [
      "# ELU 502 Deep learning  IMT Atlantique -- Lab session 6\n",
      "Max Sobroza, Pierre Tandeo - session: 1h20+3h\n"
     ]
    },
    {
     "cell_type": "markdown",
     "metadata": {
      "nbpresent": {
       "id": "797413a2-61f3-40e6-a8f0-242b28d4e090"
      }
     },
     "source": [
      "### Objectives: Perform sentiment analysis classification on *IMDB dataset* exploring multiples architectures of recurrent neural networks (RNN, LSTM, BiLSTM, ...) and transfer learning from word embeddings vectors to achieve better results on a NLP (Natural Language Processing) task.\n",
      "\n",
      "Hint: See the documentation of Keras for implementation details."
     ]
    },
    {
     "cell_type": "markdown",
     "metadata": {},
     "source": [
      "<font color='blue'> What is IMDB ?</font>\n",
      "\n",
      "- It is a website that contains several movies reviews from users\n",
      "\n",
      "[Imdb's site](https://www.imdb.com)\n",
      "\n",
      "Considering that we have only two classes of reviews (<font color='blue'>positive</font> or <font color='red'> negative </font>). Could you predict the labels of reviews based only on text content of these reviews ?\n",
      "\n",
      "**Review \\#1**\n",
      "\n",
      "*Quite simply, the finest gangster film ever made. No doubt about it, this a spectacular viewing experience. The acting along with the storyline makes this film a genuine masterpiece. The film covers a wide spectrum of genre keeping the viewer entertained throughout. TOP CLASS!*\n",
      "\n",
      "**Review \\#2**\n",
      "\n",
      "*This movie is like football, people only watch it because the think its 'cool' or 'popular', but really it is the most dreary repetitive and slow film i have had the displeasure in viewing. How this film grew to be such a ''great'' i do not know, bu ti know that it shouldn't be, Shawshank Redemption may not deserve to be second best film ever, but at least it is worthy of being where it is and is certainly a better film than any of the Godfathers.\n",
      "So please consider this when voting, the Godfather is poorly directed, badly scripted, crudely acted and most importantly is, quite frankly boring and wearisome.*\n",
      "\n",
      "**Review \\#3**\n",
      "\n",
      "*Great Book... Slightly above average movie (so sad)\n",
      "The book is awesome, one of the best books ever. Sadly the movie is weak, and fails to portrait the true essence of the characters, what's so great about the book is that you're able to know and understand the background stories, therefore you identify with the characters behavior to the point where you even forget they're mobsters!! however in the movie many minor and irrelevant scenes take too much time, time that could be used to go a little deeper into the characters, and what's even worst is the total disregard to important passages of the book which didn't even make the movie, or if they did, they were over-synthesized. I don't think I'm the only one that really loved the book, but was sadly disappointed by the movie, still is a movie worth watching, but if you really want to enjoy a great story you should read the book!!*\n",
      "\n",
      "\n",
      "Sometimes, even for us it is complicated to perform this task. In this lab session, we will create an algorithm that does these predictions automatically with more than 82.0% of accuracy. The state-of-the art methods achieves on this task (about 87.0% to 90.0%). Examples of application of this task are human dialogue sentiment identification, user opinion of product reviews, chat bots language understanding and/or Twitter language understanding."
     ]
    },
    {
     "cell_type": "markdown",
     "metadata": {
      "nbpresent": {
       "id": "ec0f8430-76a1-475d-a360-8f93ab4f2732"
      }
     },
     "source": [
      "Now it is your turn and good luck!\n",
      "\n",
      "First, we need to download and import the IMDB dataset from Keras."
     ]
    },
    {
     "cell_type": "code",
     "collapsed": true,
     "input": [
      "import keras\n",
      "from keras.datasets import imdb\n",
      "from keras.preprocessing import sequence\n",
      "from keras.utils import np_utils\n",
      "import numpy as np\n",
      "\n",
      "(x_train, y_train), (x_test, y_test) = imdb.load_data(path=\"imdb.npz\",\n",
      "                                                      num_words=None, # Number of words of the vocabulary (None=gets all words)\n",
      "                                                      skip_top=0,     # Excludes top-k frequent words\n",
      "                                                      maxlen=None,)   # Max length of sentences"
     ],
     "language": "python",
     "metadata": {
      "nbpresent": {
       "id": "2b07a011-1503-4935-8cb4-30013804a57c"
      }
     },
     "outputs": [
      {
       "output_type": "stream",
       "stream": "stdout",
       "text": [
        "Downloading data from https://s3.amazonaws.com/text-datasets/imdb.npz\n",
        "\n"
       ]
      },
      {
       "output_type": "stream",
       "stream": "stdout",
       "text": [
        "   16384/17464789 [..............................] - ETA: 0s"
       ]
      },
      {
       "output_type": "stream",
       "stream": "stdout",
       "text": [
        "\n",
        "   24576/17464789 [..............................] - ETA: 1:04"
       ]
      },
      {
       "output_type": "stream",
       "stream": "stdout",
       "text": [
        "\n",
        "   57344/17464789 [..............................] - ETA: 55s "
       ]
      },
      {
       "output_type": "stream",
       "stream": "stdout",
       "text": [
        "\n",
        "  106496/17464789 [..............................] - ETA: 44s"
       ]
      },
      {
       "output_type": "stream",
       "stream": "stdout",
       "text": [
        "\n",
        "  180224/17464789 [..............................] - ETA: 34s"
       ]
      },
      {
       "output_type": "stream",
       "stream": "stdout",
       "text": [
        "\n",
        "  294912/17464789 [..............................] - ETA: 25s"
       ]
      },
      {
       "output_type": "stream",
       "stream": "stdout",
       "text": [
        "\n",
        "  442368/17464789 [..............................] - ETA: 22s"
       ]
      },
      {
       "output_type": "stream",
       "stream": "stdout",
       "text": [
        "\n",
        "  614400/17464789 [>.............................] - ETA: 17s"
       ]
      },
      {
       "output_type": "stream",
       "stream": "stdout",
       "text": [
        "\n",
        "  819200/17464789 [>.............................] - ETA: 14s"
       ]
      },
      {
       "output_type": "stream",
       "stream": "stdout",
       "text": [
        "\n",
        "  991232/17464789 [>.............................] - ETA: 13s"
       ]
      },
      {
       "output_type": "stream",
       "stream": "stdout",
       "text": [
        "\n",
        " 1155072/17464789 [>.............................] - ETA: 12s"
       ]
      },
      {
       "output_type": "stream",
       "stream": "stdout",
       "text": [
        "\n",
        " 1327104/17464789 [=>............................] - ETA: 12s"
       ]
      },
      {
       "output_type": "stream",
       "stream": "stdout",
       "text": [
        "\n",
        " 1515520/17464789 [=>............................] - ETA: 11s"
       ]
      },
      {
       "output_type": "stream",
       "stream": "stdout",
       "text": [
        "\n",
        " 1695744/17464789 [=>............................] - ETA: 10s"
       ]
      },
      {
       "output_type": "stream",
       "stream": "stdout",
       "text": [
        "\n",
        " 1867776/17464789 [==>...........................] - ETA: 10s"
       ]
      },
      {
       "output_type": "stream",
       "stream": "stdout",
       "text": [
        "\n",
        " 2056192/17464789 [==>...........................] - ETA: 10s"
       ]
      },
      {
       "output_type": "stream",
       "stream": "stdout",
       "text": [
        "\n",
        " 2252800/17464789 [==>...........................] - ETA: 9s "
       ]
      },
      {
       "output_type": "stream",
       "stream": "stdout",
       "text": [
        "\n",
        " 2441216/17464789 [===>..........................] - ETA: 9s"
       ]
      },
      {
       "output_type": "stream",
       "stream": "stdout",
       "text": [
        "\n",
        " 2629632/17464789 [===>..........................] - ETA: 9s"
       ]
      },
      {
       "output_type": "stream",
       "stream": "stdout",
       "text": [
        "\n",
        " 2842624/17464789 [===>..........................] - ETA: 8s"
       ]
      },
      {
       "output_type": "stream",
       "stream": "stdout",
       "text": [
        "\n",
        " 3031040/17464789 [====>.........................] - ETA: 8s"
       ]
      },
      {
       "output_type": "stream",
       "stream": "stdout",
       "text": [
        "\n",
        " 3235840/17464789 [====>.........................] - ETA: 8s"
       ]
      },
      {
       "output_type": "stream",
       "stream": "stdout",
       "text": [
        "\n",
        " 3260416/17464789 [====>.........................] - ETA: 8s"
       ]
      },
      {
       "output_type": "stream",
       "stream": "stdout",
       "text": [
        "\n",
        " 3448832/17464789 [====>.........................] - ETA: 8s"
       ]
      },
      {
       "output_type": "stream",
       "stream": "stdout",
       "text": [
        "\n",
        " 3645440/17464789 [=====>........................] - ETA: 7s"
       ]
      },
      {
       "output_type": "stream",
       "stream": "stdout",
       "text": [
        "\n",
        " 3833856/17464789 [=====>........................] - ETA: 7s"
       ]
      },
      {
       "output_type": "stream",
       "stream": "stdout",
       "text": [
        "\n",
        " 3866624/17464789 [=====>........................] - ETA: 7s"
       ]
      },
      {
       "output_type": "stream",
       "stream": "stdout",
       "text": [
        "\n",
        " 4079616/17464789 [======>.......................] - ETA: 7s"
       ]
      },
      {
       "output_type": "stream",
       "stream": "stdout",
       "text": [
        "\n",
        " 4284416/17464789 [======>.......................] - ETA: 7s"
       ]
      },
      {
       "output_type": "stream",
       "stream": "stdout",
       "text": [
        "\n",
        " 4497408/17464789 [======>.......................] - ETA: 7s"
       ]
      },
      {
       "output_type": "stream",
       "stream": "stdout",
       "text": [
        "\n",
        " 4685824/17464789 [=======>......................] - ETA: 6s"
       ]
      },
      {
       "output_type": "stream",
       "stream": "stdout",
       "text": [
        "\n",
        " 4734976/17464789 [=======>......................] - ETA: 6s"
       ]
      },
      {
       "output_type": "stream",
       "stream": "stdout",
       "text": [
        "\n",
        " 4857856/17464789 [=======>......................] - ETA: 6s"
       ]
      },
      {
       "output_type": "stream",
       "stream": "stdout",
       "text": [
        "\n",
        " 5136384/17464789 [=======>......................] - ETA: 6s"
       ]
      },
      {
       "output_type": "stream",
       "stream": "stdout",
       "text": [
        "\n",
        " 5275648/17464789 [========>.....................] - ETA: 6s"
       ]
      },
      {
       "output_type": "stream",
       "stream": "stdout",
       "text": [
        "\n",
        " 5431296/17464789 [========>.....................] - ETA: 6s"
       ]
      },
      {
       "output_type": "stream",
       "stream": "stdout",
       "text": [
        "\n",
        " 5595136/17464789 [========>.....................] - ETA: 6s"
       ]
      },
      {
       "output_type": "stream",
       "stream": "stdout",
       "text": [
        "\n",
        " 5611520/17464789 [========>.....................] - ETA: 6s"
       ]
      },
      {
       "output_type": "stream",
       "stream": "stdout",
       "text": [
        "\n",
        " 5767168/17464789 [========>.....................] - ETA: 6s"
       ]
      },
      {
       "output_type": "stream",
       "stream": "stdout",
       "text": [
        "\n",
        " 5922816/17464789 [=========>....................] - ETA: 6s"
       ]
      },
      {
       "output_type": "stream",
       "stream": "stdout",
       "text": [
        "\n",
        " 5988352/17464789 [=========>....................] - ETA: 6s"
       ]
      },
      {
       "output_type": "stream",
       "stream": "stdout",
       "text": [
        "\n",
        " 6234112/17464789 [=========>....................] - ETA: 6s"
       ]
      },
      {
       "output_type": "stream",
       "stream": "stdout",
       "text": [
        "\n",
        " 6340608/17464789 [=========>....................] - ETA: 6s"
       ]
      },
      {
       "output_type": "stream",
       "stream": "stdout",
       "text": [
        "\n",
        " 6463488/17464789 [==========>...................] - ETA: 6s"
       ]
      },
      {
       "output_type": "stream",
       "stream": "stdout",
       "text": [
        "\n",
        " 6586368/17464789 [==========>...................] - ETA: 5s"
       ]
      },
      {
       "output_type": "stream",
       "stream": "stdout",
       "text": [
        "\n",
        " 6709248/17464789 [==========>...................] - ETA: 5s"
       ]
      },
      {
       "output_type": "stream",
       "stream": "stdout",
       "text": [
        "\n",
        " 6823936/17464789 [==========>...................] - ETA: 5s"
       ]
      },
      {
       "output_type": "stream",
       "stream": "stdout",
       "text": [
        "\n",
        " 6864896/17464789 [==========>...................] - ETA: 5s"
       ]
      },
      {
       "output_type": "stream",
       "stream": "stdout",
       "text": [
        "\n",
        " 6963200/17464789 [==========>...................] - ETA: 5s"
       ]
      },
      {
       "output_type": "stream",
       "stream": "stdout",
       "text": [
        "\n",
        " 7086080/17464789 [===========>..................] - ETA: 5s"
       ]
      },
      {
       "output_type": "stream",
       "stream": "stdout",
       "text": [
        "\n",
        " 7208960/17464789 [===========>..................] - ETA: 5s"
       ]
      },
      {
       "output_type": "stream",
       "stream": "stdout",
       "text": [
        "\n",
        " 7241728/17464789 [===========>..................] - ETA: 5s"
       ]
      },
      {
       "output_type": "stream",
       "stream": "stdout",
       "text": [
        "\n",
        " 7348224/17464789 [===========>..................] - ETA: 5s"
       ]
      },
      {
       "output_type": "stream",
       "stream": "stdout",
       "text": [
        "\n",
        " 7471104/17464789 [===========>..................] - ETA: 5s"
       ]
      },
      {
       "output_type": "stream",
       "stream": "stdout",
       "text": [
        "\n",
        " 7503872/17464789 [===========>..................] - ETA: 5s"
       ]
      },
      {
       "output_type": "stream",
       "stream": "stdout",
       "text": [
        "\n",
        " 7610368/17464789 [============>.................] - ETA: 5s"
       ]
      },
      {
       "output_type": "stream",
       "stream": "stdout",
       "text": [
        "\n",
        " 7733248/17464789 [============>.................] - ETA: 5s"
       ]
      },
      {
       "output_type": "stream",
       "stream": "stdout",
       "text": [
        "\n",
        " 7766016/17464789 [============>.................] - ETA: 5s"
       ]
      },
      {
       "output_type": "stream",
       "stream": "stdout",
       "text": [
        "\n",
        " 7888896/17464789 [============>.................] - ETA: 5s"
       ]
      },
      {
       "output_type": "stream",
       "stream": "stdout",
       "text": [
        "\n",
        " 8011776/17464789 [============>.................] - ETA: 5s"
       ]
      },
      {
       "output_type": "stream",
       "stream": "stdout",
       "text": [
        "\n",
        " 8044544/17464789 [============>.................] - ETA: 5s"
       ]
      },
      {
       "output_type": "stream",
       "stream": "stdout",
       "text": [
        "\n",
        " 8167424/17464789 [=============>................] - ETA: 5s"
       ]
      },
      {
       "output_type": "stream",
       "stream": "stdout",
       "text": [
        "\n",
        " 8290304/17464789 [=============>................] - ETA: 5s"
       ]
      },
      {
       "output_type": "stream",
       "stream": "stdout",
       "text": [
        "\n",
        " 8413184/17464789 [=============>................] - ETA: 5s"
       ]
      },
      {
       "output_type": "stream",
       "stream": "stdout",
       "text": [
        "\n",
        " 8445952/17464789 [=============>................] - ETA: 5s"
       ]
      },
      {
       "output_type": "stream",
       "stream": "stdout",
       "text": [
        "\n",
        " 8568832/17464789 [=============>................] - ETA: 5s"
       ]
      },
      {
       "output_type": "stream",
       "stream": "stdout",
       "text": [
        "\n",
        " 8691712/17464789 [=============>................] - ETA: 5s"
       ]
      },
      {
       "output_type": "stream",
       "stream": "stdout",
       "text": [
        "\n",
        " 8732672/17464789 [==============>...............] - ETA: 5s"
       ]
      },
      {
       "output_type": "stream",
       "stream": "stdout",
       "text": [
        "\n",
        " 8847360/17464789 [==============>...............] - ETA: 5s"
       ]
      },
      {
       "output_type": "stream",
       "stream": "stdout",
       "text": [
        "\n",
        " 8970240/17464789 [==============>...............] - ETA: 4s"
       ]
      },
      {
       "output_type": "stream",
       "stream": "stdout",
       "text": [
        "\n",
        " 9019392/17464789 [==============>...............] - ETA: 4s"
       ]
      },
      {
       "output_type": "stream",
       "stream": "stdout",
       "text": [
        "\n",
        " 9125888/17464789 [==============>...............] - ETA: 4s"
       ]
      },
      {
       "output_type": "stream",
       "stream": "stdout",
       "text": [
        "\n",
        " 9248768/17464789 [==============>...............] - ETA: 4s"
       ]
      },
      {
       "output_type": "stream",
       "stream": "stdout",
       "text": [
        "\n",
        " 9297920/17464789 [==============>...............] - ETA: 4s"
       ]
      },
      {
       "output_type": "stream",
       "stream": "stdout",
       "text": [
        "\n",
        " 9404416/17464789 [===============>..............] - ETA: 4s"
       ]
      },
      {
       "output_type": "stream",
       "stream": "stdout",
       "text": [
        "\n",
        " 9527296/17464789 [===============>..............] - ETA: 4s"
       ]
      },
      {
       "output_type": "stream",
       "stream": "stdout",
       "text": [
        "\n",
        " 9576448/17464789 [===============>..............] - ETA: 4s"
       ]
      },
      {
       "output_type": "stream",
       "stream": "stdout",
       "text": [
        "\n",
        " 9682944/17464789 [===============>..............] - ETA: 4s"
       ]
      },
      {
       "output_type": "stream",
       "stream": "stdout",
       "text": [
        "\n",
        " 9805824/17464789 [===============>..............] - ETA: 4s"
       ]
      },
      {
       "output_type": "stream",
       "stream": "stdout",
       "text": [
        "\n",
        " 9854976/17464789 [===============>..............] - ETA: 4s"
       ]
      },
      {
       "output_type": "stream",
       "stream": "stdout",
       "text": [
        "\n",
        " 9977856/17464789 [================>.............] - ETA: 4s"
       ]
      },
      {
       "output_type": "stream",
       "stream": "stdout",
       "text": [
        "\n",
        "10100736/17464789 [================>.............] - ETA: 4s"
       ]
      },
      {
       "output_type": "stream",
       "stream": "stdout",
       "text": [
        "\n",
        "10133504/17464789 [================>.............] - ETA: 4s"
       ]
      },
      {
       "output_type": "stream",
       "stream": "stdout",
       "text": [
        "\n",
        "10256384/17464789 [================>.............] - ETA: 4s"
       ]
      },
      {
       "output_type": "stream",
       "stream": "stdout",
       "text": [
        "\n",
        "10379264/17464789 [================>.............] - ETA: 4s"
       ]
      },
      {
       "output_type": "stream",
       "stream": "stdout",
       "text": [
        "\n",
        "10412032/17464789 [================>.............] - ETA: 4s"
       ]
      },
      {
       "output_type": "stream",
       "stream": "stdout",
       "text": [
        "\n",
        "10534912/17464789 [=================>............] - ETA: 4s"
       ]
      },
      {
       "output_type": "stream",
       "stream": "stdout",
       "text": [
        "\n",
        "10657792/17464789 [=================>............] - ETA: 4s"
       ]
      },
      {
       "output_type": "stream",
       "stream": "stdout",
       "text": [
        "\n",
        "10690560/17464789 [=================>............] - ETA: 4s"
       ]
      },
      {
       "output_type": "stream",
       "stream": "stdout",
       "text": [
        "\n",
        "10813440/17464789 [=================>............] - ETA: 3s"
       ]
      },
      {
       "output_type": "stream",
       "stream": "stdout",
       "text": [
        "\n",
        "10936320/17464789 [=================>............] - ETA: 3s"
       ]
      },
      {
       "output_type": "stream",
       "stream": "stdout",
       "text": [
        "\n",
        "10985472/17464789 [=================>............] - ETA: 3s"
       ]
      },
      {
       "output_type": "stream",
       "stream": "stdout",
       "text": [
        "\n",
        "11091968/17464789 [==================>...........] - ETA: 3s"
       ]
      },
      {
       "output_type": "stream",
       "stream": "stdout",
       "text": [
        "\n",
        "11214848/17464789 [==================>...........] - ETA: 3s"
       ]
      },
      {
       "output_type": "stream",
       "stream": "stdout",
       "text": [
        "\n",
        "11264000/17464789 [==================>...........] - ETA: 3s"
       ]
      },
      {
       "output_type": "stream",
       "stream": "stdout",
       "text": [
        "\n",
        "11370496/17464789 [==================>...........] - ETA: 3s"
       ]
      },
      {
       "output_type": "stream",
       "stream": "stdout",
       "text": [
        "\n",
        "11493376/17464789 [==================>...........] - ETA: 3s"
       ]
      },
      {
       "output_type": "stream",
       "stream": "stdout",
       "text": [
        "\n",
        "11542528/17464789 [==================>...........] - ETA: 3s"
       ]
      },
      {
       "output_type": "stream",
       "stream": "stdout",
       "text": [
        "\n",
        "11665408/17464789 [===================>..........] - ETA: 3s"
       ]
      },
      {
       "output_type": "stream",
       "stream": "stdout",
       "text": [
        "\n",
        "11771904/17464789 [===================>..........] - ETA: 3s"
       ]
      },
      {
       "output_type": "stream",
       "stream": "stdout",
       "text": [
        "\n",
        "11821056/17464789 [===================>..........] - ETA: 3s"
       ]
      },
      {
       "output_type": "stream",
       "stream": "stdout",
       "text": [
        "\n",
        "11943936/17464789 [===================>..........] - ETA: 3s"
       ]
      },
      {
       "output_type": "stream",
       "stream": "stdout",
       "text": [
        "\n",
        "12066816/17464789 [===================>..........] - ETA: 3s"
       ]
      },
      {
       "output_type": "stream",
       "stream": "stdout",
       "text": [
        "\n",
        "12115968/17464789 [===================>..........] - ETA: 3s"
       ]
      },
      {
       "output_type": "stream",
       "stream": "stdout",
       "text": [
        "\n",
        "12222464/17464789 [===================>..........] - ETA: 3s"
       ]
      },
      {
       "output_type": "stream",
       "stream": "stdout",
       "text": [
        "\n",
        "12345344/17464789 [====================>.........] - ETA: 3s"
       ]
      },
      {
       "output_type": "stream",
       "stream": "stdout",
       "text": [
        "\n",
        "12394496/17464789 [====================>.........] - ETA: 3s"
       ]
      },
      {
       "output_type": "stream",
       "stream": "stdout",
       "text": [
        "\n",
        "12500992/17464789 [====================>.........] - ETA: 2s"
       ]
      },
      {
       "output_type": "stream",
       "stream": "stdout",
       "text": [
        "\n",
        "12623872/17464789 [====================>.........] - ETA: 2s"
       ]
      },
      {
       "output_type": "stream",
       "stream": "stdout",
       "text": [
        "\n",
        "12673024/17464789 [====================>.........] - ETA: 2s"
       ]
      },
      {
       "output_type": "stream",
       "stream": "stdout",
       "text": [
        "\n",
        "12779520/17464789 [====================>.........] - ETA: 2s"
       ]
      },
      {
       "output_type": "stream",
       "stream": "stdout",
       "text": [
        "\n",
        "12902400/17464789 [=====================>........] - ETA: 2s"
       ]
      },
      {
       "output_type": "stream",
       "stream": "stdout",
       "text": [
        "\n",
        "12951552/17464789 [=====================>........] - ETA: 2s"
       ]
      },
      {
       "output_type": "stream",
       "stream": "stdout",
       "text": [
        "\n",
        "13058048/17464789 [=====================>........] - ETA: 2s"
       ]
      },
      {
       "output_type": "stream",
       "stream": "stdout",
       "text": [
        "\n",
        "13180928/17464789 [=====================>........] - ETA: 2s"
       ]
      },
      {
       "output_type": "stream",
       "stream": "stdout",
       "text": [
        "\n",
        "13230080/17464789 [=====================>........] - ETA: 2s"
       ]
      },
      {
       "output_type": "stream",
       "stream": "stdout",
       "text": [
        "\n",
        "13352960/17464789 [=====================>........] - ETA: 2s"
       ]
      },
      {
       "output_type": "stream",
       "stream": "stdout",
       "text": [
        "\n",
        "13459456/17464789 [======================>.......] - ETA: 2s"
       ]
      },
      {
       "output_type": "stream",
       "stream": "stdout",
       "text": [
        "\n",
        "13508608/17464789 [======================>.......] - ETA: 2s"
       ]
      },
      {
       "output_type": "stream",
       "stream": "stdout",
       "text": [
        "\n",
        "13631488/17464789 [======================>.......] - ETA: 2s"
       ]
      },
      {
       "output_type": "stream",
       "stream": "stdout",
       "text": [
        "\n",
        "13754368/17464789 [======================>.......] - ETA: 2s"
       ]
      },
      {
       "output_type": "stream",
       "stream": "stdout",
       "text": [
        "\n",
        "13811712/17464789 [======================>.......] - ETA: 2s"
       ]
      },
      {
       "output_type": "stream",
       "stream": "stdout",
       "text": [
        "\n",
        "13910016/17464789 [======================>.......] - ETA: 2s"
       ]
      },
      {
       "output_type": "stream",
       "stream": "stdout",
       "text": [
        "\n",
        "14032896/17464789 [=======================>......] - ETA: 2s"
       ]
      },
      {
       "output_type": "stream",
       "stream": "stdout",
       "text": [
        "\n",
        "14090240/17464789 [=======================>......] - ETA: 2s"
       ]
      },
      {
       "output_type": "stream",
       "stream": "stdout",
       "text": [
        "\n",
        "14204928/17464789 [=======================>......] - ETA: 1s"
       ]
      },
      {
       "output_type": "stream",
       "stream": "stdout",
       "text": [
        "\n",
        "14311424/17464789 [=======================>......] - ETA: 1s"
       ]
      },
      {
       "output_type": "stream",
       "stream": "stdout",
       "text": [
        "\n",
        "14368768/17464789 [=======================>......] - ETA: 1s"
       ]
      },
      {
       "output_type": "stream",
       "stream": "stdout",
       "text": [
        "\n",
        "14483456/17464789 [=======================>......] - ETA: 1s"
       ]
      },
      {
       "output_type": "stream",
       "stream": "stdout",
       "text": [
        "\n",
        "14606336/17464789 [========================>.....] - ETA: 1s"
       ]
      },
      {
       "output_type": "stream",
       "stream": "stdout",
       "text": [
        "\n",
        "14663680/17464789 [========================>.....] - ETA: 1s"
       ]
      },
      {
       "output_type": "stream",
       "stream": "stdout",
       "text": [
        "\n",
        "14786560/17464789 [========================>.....] - ETA: 1s"
       ]
      },
      {
       "output_type": "stream",
       "stream": "stdout",
       "text": [
        "\n",
        "14901248/17464789 [========================>.....] - ETA: 1s"
       ]
      },
      {
       "output_type": "stream",
       "stream": "stdout",
       "text": [
        "\n",
        "14958592/17464789 [========================>.....] - ETA: 1s"
       ]
      },
      {
       "output_type": "stream",
       "stream": "stdout",
       "text": [
        "\n",
        "15081472/17464789 [========================>.....] - ETA: 1s"
       ]
      },
      {
       "output_type": "stream",
       "stream": "stdout",
       "text": [
        "\n",
        "15204352/17464789 [=========================>....] - ETA: 1s"
       ]
      },
      {
       "output_type": "stream",
       "stream": "stdout",
       "text": [
        "\n",
        "15253504/17464789 [=========================>....] - ETA: 1s"
       ]
      },
      {
       "output_type": "stream",
       "stream": "stdout",
       "text": [
        "\n",
        "15376384/17464789 [=========================>....] - ETA: 1s"
       ]
      },
      {
       "output_type": "stream",
       "stream": "stdout",
       "text": [
        "\n",
        "15499264/17464789 [=========================>....] - ETA: 1s"
       ]
      },
      {
       "output_type": "stream",
       "stream": "stdout",
       "text": [
        "\n",
        "15548416/17464789 [=========================>....] - ETA: 1s"
       ]
      },
      {
       "output_type": "stream",
       "stream": "stdout",
       "text": [
        "\n",
        "15671296/17464789 [=========================>....] - ETA: 1s"
       ]
      },
      {
       "output_type": "stream",
       "stream": "stdout",
       "text": [
        "\n",
        "15794176/17464789 [==========================>...] - ETA: 1s"
       ]
      },
      {
       "output_type": "stream",
       "stream": "stdout",
       "text": [
        "\n",
        "15859712/17464789 [==========================>...] - ETA: 0s"
       ]
      },
      {
       "output_type": "stream",
       "stream": "stdout",
       "text": [
        "\n",
        "15982592/17464789 [==========================>...] - ETA: 0s"
       ]
      },
      {
       "output_type": "stream",
       "stream": "stdout",
       "text": [
        "\n",
        "16089088/17464789 [==========================>...] - ETA: 0s"
       ]
      },
      {
       "output_type": "stream",
       "stream": "stdout",
       "text": [
        "\n",
        "16277504/17464789 [==========================>...] - ETA: 0s"
       ]
      },
      {
       "output_type": "stream",
       "stream": "stdout",
       "text": [
        "\n",
        "16367616/17464789 [===========================>..] - ETA: 0s"
       ]
      },
      {
       "output_type": "stream",
       "stream": "stdout",
       "text": [
        "\n",
        "16416768/17464789 [===========================>..] - ETA: 0s"
       ]
      },
      {
       "output_type": "stream",
       "stream": "stdout",
       "text": [
        "\n",
        "16490496/17464789 [===========================>..] - ETA: 0s"
       ]
      },
      {
       "output_type": "stream",
       "stream": "stdout",
       "text": [
        "\n",
        "16646144/17464789 [===========================>..] - ETA: 0s"
       ]
      },
      {
       "output_type": "stream",
       "stream": "stdout",
       "text": [
        "\n",
        "16695296/17464789 [===========================>..] - ETA: 0s"
       ]
      },
      {
       "output_type": "stream",
       "stream": "stdout",
       "text": [
        "\n",
        "16769024/17464789 [===========================>..] - ETA: 0s"
       ]
      },
      {
       "output_type": "stream",
       "stream": "stdout",
       "text": [
        "\n",
        "16801792/17464789 [===========================>..] - ETA: 0s"
       ]
      },
      {
       "output_type": "stream",
       "stream": "stdout",
       "text": [
        "\n",
        "16875520/17464789 [===========================>..] - ETA: 0s"
       ]
      },
      {
       "output_type": "stream",
       "stream": "stdout",
       "text": [
        "\n",
        "16941056/17464789 [============================>.] - ETA: 0s"
       ]
      },
      {
       "output_type": "stream",
       "stream": "stdout",
       "text": [
        "\n",
        "16990208/17464789 [============================>.] - ETA: 0s"
       ]
      },
      {
       "output_type": "stream",
       "stream": "stdout",
       "text": [
        "\n",
        "17047552/17464789 [============================>.] - ETA: 0s"
       ]
      },
      {
       "output_type": "stream",
       "stream": "stdout",
       "text": [
        "\n",
        "17129472/17464789 [============================>.] - ETA: 0s"
       ]
      },
      {
       "output_type": "stream",
       "stream": "stdout",
       "text": [
        "\n",
        "17219584/17464789 [============================>.] - ETA: 0s"
       ]
      },
      {
       "output_type": "stream",
       "stream": "stdout",
       "text": [
        "\n",
        "17252352/17464789 [============================>.] - ETA: 0s"
       ]
      },
      {
       "output_type": "stream",
       "stream": "stdout",
       "text": [
        "\n",
        "17326080/17464789 [============================>.] - ETA: 0s"
       ]
      },
      {
       "output_type": "stream",
       "stream": "stdout",
       "text": [
        "\n",
        "17408000/17464789 [============================>.] - ETA: 0s"
       ]
      },
      {
       "output_type": "stream",
       "stream": "stdout",
       "text": [
        "\n",
        "17448960/17464789 [============================>.] - ETA: 0s"
       ]
      },
      {
       "output_type": "stream",
       "stream": "stdout",
       "text": [
        "\n",
        "17465344/17464789 [==============================] - 11s 1us/step\n"
       ]
      },
      {
       "output_type": "stream",
       "stream": "stdout",
       "text": [
        "\n",
        "17473536/17464789 [==============================] - 11s 1us/step\n"
       ]
      },
      {
       "output_type": "stream",
       "stream": "stderr",
       "text": [
        "Using TensorFlow backend.\n"
       ]
      }
     ],
     "prompt_number": 1
    },
    {
     "cell_type": "markdown",
     "metadata": {
      "nbpresent": {
       "id": "ef32a37b-7b4d-48b6-af65-15f6d4fc2f11"
      }
     },
     "source": [
      "Differently from images, the text contains only discrete information:\n",
      "\n",
      "- Each unique word is mapped to an unique index (integer)\n",
      "- Each sentence or document contains a sequence of words (or indexes)"
     ]
    },
    {
     "cell_type": "code",
     "collapsed": false,
     "input": [],
     "language": "python",
     "metadata": {},
     "outputs": [
      {
       "output_type": "stream",
       "stream": "stdout",
       "text": [
        "[1, 14, 22, 16, 43, 530, 973, 1622, 1385, 65, 458, 4468, 66, 3941, 4, 173, 36, 256, 5, 25, 100, 43, 838, 112, 50, 670, 22665, 9, 35, 480, 284, 5, 150, 4, 172, 112, 167, 21631, 336, 385, 39, 4, 172, 4536, 1111, 17, 546, 38, 13, 447, 4, 192, 50, 16, 6, 147, 2025, 19, 14, 22, 4, 1920, 4613, 469, 4, 22, 71, 87, 12, 16, 43, 530, 38, 76, 15, 13, 1247, 4, 22, 17, 515, 17, 12, 16, 626, 18, 19193, 5, 62, 386, 12, 8, 316, 8, 106, 5, 4, 2223, 5244, 16, 480, 66, 3785, 33, 4, 130, 12, 16, 38, 619, 5, 25, 124, 51, 36, 135, 48, 25, 1415, 33, 6, 22, 12, 215, 28, 77, 52, 5, 14, 407, 16, 82, 10311, 8, 4, 107, 117, 5952, 15, 256, 4, 31050, 7, 3766, 5, 723, 36, 71, 43, 530, 476, 26, 400, 317, 46, 7, 4, 12118, 1029, 13, 104, 88, 4, 381, 15, 297, 98, 32, 2071, 56, 26, 141, 6, 194, 7486, 18, 4, 226, 22, 21, 134, 476, 26, 480, 5, 144, 30, 5535, 18, 51, 36, 28, 224, 92, 25, 104, 4, 226, 65, 16, 38, 1334, 88, 12, 16, 283, 5, 16, 4472, 113, 103, 32, 15, 16, 5345, 19, 178, 32]\n",
        "[1 0 0 ..., 0 1 0]\n"
       ]
      }
     ],
     "prompt_number": 6
    },
    {
     "cell_type": "code",
     "collapsed": true,
     "input": [
      "word_index = imdb.get_word_index(path='imdb_word_index.json') # Load word vocabulary dictionary \n",
      "print('> Index of word \\\"special\\\" is {}'.format(word_index['special']))\n",
      "print('> Index of word \\\"effects\\\" is {}'.format(word_index['effects']))"
     ],
     "language": "python",
     "metadata": {
      "nbpresent": {
       "id": "51ce5a95-c7f7-4a4f-aac8-f63cccd10c47"
      }
     },
     "outputs": [
      {
       "output_type": "stream",
       "stream": "stdout",
       "text": [
        "Downloading data from https://s3.amazonaws.com/text-datasets/imdb_word_index.json\n",
        "\n"
       ]
      },
      {
       "output_type": "stream",
       "stream": "stdout",
       "text": [
        "  16384/1641221 [..............................] - ETA: 0s"
       ]
      },
      {
       "output_type": "stream",
       "stream": "stdout",
       "text": [
        "\n",
        "  24576/1641221 [..............................] - ETA: 5s"
       ]
      },
      {
       "output_type": "stream",
       "stream": "stdout",
       "text": [
        "\n",
        "  57344/1641221 [>.............................] - ETA: 5s"
       ]
      },
      {
       "output_type": "stream",
       "stream": "stdout",
       "text": [
        "\n",
        " 106496/1641221 [>.............................] - ETA: 3s"
       ]
      },
      {
       "output_type": "stream",
       "stream": "stdout",
       "text": [
        "\n",
        " 196608/1641221 [==>...........................] - ETA: 2s"
       ]
      },
      {
       "output_type": "stream",
       "stream": "stdout",
       "text": [
        "\n",
        " 303104/1641221 [====>.........................] - ETA: 1s"
       ]
      },
      {
       "output_type": "stream",
       "stream": "stdout",
       "text": [
        "\n",
        " 475136/1641221 [=======>......................] - ETA: 1s"
       ]
      },
      {
       "output_type": "stream",
       "stream": "stdout",
       "text": [
        "\n",
        " 630784/1641221 [==========>...................] - ETA: 1s"
       ]
      },
      {
       "output_type": "stream",
       "stream": "stdout",
       "text": [
        "\n",
        " 909312/1641221 [===============>..............] - ETA: 0s"
       ]
      },
      {
       "output_type": "stream",
       "stream": "stdout",
       "text": [
        "\n",
        "1220608/1641221 [=====================>........] - ETA: 0s"
       ]
      },
      {
       "output_type": "stream",
       "stream": "stdout",
       "text": [
        "\n",
        "1466368/1641221 [=========================>....] - ETA: 0s"
       ]
      },
      {
       "output_type": "stream",
       "stream": "stdout",
       "text": [
        "\n",
        "1646592/1641221 [==============================] - 1s 1us/step\n"
       ]
      },
      {
       "output_type": "stream",
       "stream": "stdout",
       "text": [
        "\n",
        "1654784/1641221 [==============================] - 1s 1us/step\n"
       ]
      },
      {
       "output_type": "stream",
       "stream": "stdout",
       "text": [
        "> Index of word \"special\" is 315\n",
        "> Index of word \"effects\" is 299\n"
       ]
      }
     ],
     "prompt_number": 7
    },
    {
     "cell_type": "markdown",
     "metadata": {
      "nbpresent": {
       "id": "3932ee92-6e56-4848-ad3c-217fa649a1a0"
      }
     },
     "source": [
      "In the dataset loaded by Keras the preprocessing is already done: words are already tokenized and indexed.\n",
      "\n",
      "The second step is to obtain the dictionary that translates indexes (integer) to words (string)"
     ]
    },
    {
     "cell_type": "markdown",
     "metadata": {
      "nbpresent": {
       "id": "1e3b1492-da1f-4c1b-82f2-97820ad210a1"
      }
     },
     "source": [
      "The reversed dictionary of *word_index* is obtained by the follow command:"
     ]
    },
    {
     "cell_type": "code",
     "collapsed": true,
     "input": [
      "index_word = dict([[v,k] for k,v in word_index.items()])\n",
      "print('> The word corresponding to the Index 315 is \\\"{}\\\"'.format(index_word[315]))\n",
      "print('> The word corresponding to the Index 299 is \\\"{}\\\"'.format(index_word[299]))"
     ],
     "language": "python",
     "metadata": {
      "nbpresent": {
       "id": "177952ae-d1ac-45d1-81fa-20361b8a48cf"
      }
     },
     "outputs": [
      {
       "output_type": "stream",
       "stream": "stdout",
       "text": [
        "> The word corresponding to the Index 315 is \"special\"\n",
        "> The word corresponding to the Index 299 is \"effects\"\n"
       ]
      }
     ],
     "prompt_number": 8
    },
    {
     "cell_type": "markdown",
     "metadata": {
      "nbpresent": {
       "id": "12084ea3-801c-46ca-a9c8-2442457d921f"
      }
     },
     "source": [
      "The number of unique words in the vocabulary is:"
     ]
    },
    {
     "cell_type": "code",
     "collapsed": true,
     "input": [
      "print('> Number of words in vocabulary: {}'.format(len(word_index)))"
     ],
     "language": "python",
     "metadata": {
      "nbpresent": {
       "id": "8eadbdf7-06fd-4d7c-bb63-fbfd1d7d4877"
      }
     },
     "outputs": [
      {
       "output_type": "stream",
       "stream": "stdout",
       "text": [
        "> Number of words in vocabulary: 88584\n"
       ]
      }
     ],
     "prompt_number": 9
    },
    {
     "cell_type": "heading",
     "level": 2,
     "metadata": {
      "nbpresent": {
       "id": "5fae17c5-d856-45ea-b6c3-d01dd6dc501f"
      }
     },
     "source": [
      "Part 1) Exploring the dataset"
     ]
    },
    {
     "cell_type": "code",
     "collapsed": true,
     "input": [
      "# Transform sequences of indexes to raw text\n",
      "# If the index does not in vocabulary you need to continue without this index\n",
      "def indexes_to_text(indexes):\n",
      "    result = \"\"\n",
      "    for i in indexes:\n",
      "        if i not in index_word:\n",
      "            continue\n",
      "        try:\n",
      "            result = result+\" \"+str(index_word[i])\n",
      "        except:\n",
      "            continue\n",
      "    return result    "
     ],
     "language": "python",
     "metadata": {
      "nbpresent": {
       "id": "1c8c1351-b90b-4481-90d2-4decd3b8ad08"
      }
     },
     "outputs": [],
     "prompt_number": 10
    },
    {
     "cell_type": "code",
     "collapsed": true,
     "input": [
      "print('> Number of training examples (x_train): {} \\n'.format(x_train.shape))\n",
      "print('> Number of training labeled examples (y_train): {} \\n'.format(y_train.shape))\n",
      "print('> First training example (indexes) is: {} \\n'.format(x_train[0]))\n",
      "print('> First training example (raw text) is: \\\"{}\\\" \\n'.format(indexes_to_text(x_train[0])))\n",
      "print('> Label of first example is: \\\"{}\\\" (positive = \\\"1\\\" and negative = \\\"0\\\")\\n'.format(y_train[0]))"
     ],
     "language": "python",
     "metadata": {
      "nbpresent": {
       "id": "418f9517-920a-4a9b-b2c2-89a3ac50107b"
      }
     },
     "outputs": [
      {
       "output_type": "stream",
       "stream": "stdout",
       "text": [
        "> Number of training examples (x_train): (25000,) \n",
        "\n",
        "> Number of training labeled examples (y_train): (25000,) \n",
        "\n",
        "> First training example (indexes) is: [1, 14, 22, 16, 43, 530, 973, 1622, 1385, 65, 458, 4468, 66, 3941, 4, 173, 36, 256, 5, 25, 100, 43, 838, 112, 50, 670, 22665, 9, 35, 480, 284, 5, 150, 4, 172, 112, 167, 21631, 336, 385, 39, 4, 172, 4536, 1111, 17, 546, 38, 13, 447, 4, 192, 50, 16, 6, 147, 2025, 19, 14, 22, 4, 1920, 4613, 469, 4, 22, 71, 87, 12, 16, 43, 530, 38, 76, 15, 13, 1247, 4, 22, 17, 515, 17, 12, 16, 626, 18, 19193, 5, 62, 386, 12, 8, 316, 8, 106, 5, 4, 2223, 5244, 16, 480, 66, 3785, 33, 4, 130, 12, 16, 38, 619, 5, 25, 124, 51, 36, 135, 48, 25, 1415, 33, 6, 22, 12, 215, 28, 77, 52, 5, 14, 407, 16, 82, 10311, 8, 4, 107, 117, 5952, 15, 256, 4, 31050, 7, 3766, 5, 723, 36, 71, 43, 530, 476, 26, 400, 317, 46, 7, 4, 12118, 1029, 13, 104, 88, 4, 381, 15, 297, 98, 32, 2071, 56, 26, 141, 6, 194, 7486, 18, 4, 226, 22, 21, 134, 476, 26, 480, 5, 144, 30, 5535, 18, 51, 36, 28, 224, 92, 25, 104, 4, 226, 65, 16, 38, 1334, 88, 12, 16, 283, 5, 16, 4472, 113, 103, 32, 15, 16, 5345, 19, 178, 32] \n",
        "\n",
        "> First training example (raw text) is: \" the as you with out themselves powerful lets loves their becomes reaching had journalist of lot from anyone to have after out atmosphere never more room titillate it so heart shows to years of every never going villaronga help moments or of every chest visual movie except her was several of enough more with is now current film as you of mine potentially unfortunately of you than him that with out themselves her get for was camp of you movie sometimes movie that with scary but pratfalls to story wonderful that in seeing in character to of 70s musicians with heart had shadows they of here that with her serious to have does when from why what have critics they is you that isn't one will very to as itself with other tricky in of seen over landed for anyone of gilmore's br show's to whether from than out themselves history he name half some br of 'n odd was two most of mean for 1 any an boat she he should is thought frog but of script you not while history he heart to real at barrel but when from one bit then have two of script their with her nobody most that with wasn't to with armed acting watch an for with heartfelt film want an\" \n",
        "\n",
        "> Label of first example is: \"1\" (positive = \"1\" and negative = \"0\")\n",
        "\n"
       ]
      }
     ],
     "prompt_number": 11
    },
    {
     "cell_type": "markdown",
     "metadata": {},
     "source": [
      "Question 1.1) Find the first document review (training example) that appears the words **soundtrack** and **effects** (not necessarily consecutives):\n",
      "\n",
      "Answer:"
     ]
    },
    {
     "cell_type": "code",
     "collapsed": true,
     "input": [
      "### CELL TO COMPLETE (~ 6 lines)\n",
      "index1 = word_index['soundtrack']\n",
      "index2 = word_index['effects']\n",
      "for review in x_train :\n",
      "    if index1 in review and index2 in review :\n",
      "        print(indexes_to_text(review))\n",
      "        break"
     ],
     "language": "python",
     "metadata": {},
     "outputs": [
      {
       "output_type": "stream",
       "stream": "stdout",
       "text": [
        " the not was tom plot than taken in can as on it's good moments taken some br of entertaining believable series is far mistakes i i of you gave this so charismatic timing too regarded worse trying those in be enormously watch plot actors as example lungs br dressed to of script kill it ww who be iran all it jamie has seeing tries in giving in made to us found all begin nah film made just music even guaranteed which be mates florida for would story michel one chuck about terrific in illusion film regarded worse is over anti which be around mates tries is felt br made whom just by br though producer private tie rating know us four power tries scant fillmore to just scant fillmore regarded worse it last not is very set annoyed agrees interested this now acting play just louis comedy of sheriff attempt also message military streets br play movie version movie stagecoach not this as until on if of because too however stagecoach it boy damon has regarded worse not all against laugh read louis effects be relationship dietrich get movies name this be characters to that it theatre spin lifetime intense it yet br virgin all interesting virgin movie is courage fred not girl most br of changed really else thing danny made stagecoach it tony movie your not would effects is lasts to as utilizing are ross it by br of german words film of you of watched films he an good went br leader some br do it's life that an new characters to 8 introduction regarded it of relationship walk like trying those in kill in also an of next to all against laugh read has be you'll really commitment average polarized complexity intense it is ned not crying courage fred stagecoach it of various not time falling capote satires passionate did cut it is commune complaining quirky satires none it of violent feel like william first be grayson casting to there is france costumes to her are dressed i i of their places is stars br logo really he is over movies anything dozens but only twists regarded out involved in borg first be mates this is fighters be mates out involved in at chips tv or about facing no of extreme declares be covers but of how my to them more it of tell perhaps once i i this that is originally feel palance are romance regarded worse crime recently in same made this is locales br an details of put it fair plotted film of famous videos to trees america if likable this of vehicle to worst of feel crime talking regarded this artists br never originally movie is cadavers to guilt they made not lead like all language stagecoach would blair this match br of kidding in looked regarded is collection really earth ending forward 2 implausible they as fair surprisingly show earlier to sad once waste hit wonder think which north fear self to as involved are of every hard for stagecoach to louis can't william of violence br as lies horror in one you're broadway underdog introduction be script acting don't fan it of you'll br as on in at creating more it which is courage b this really is resurrection classical film regarded intense manage good collection ross some br of slapped odds flying that with just is imagination boys escape funny various 10 it of too louis with plus has of rest commune referenced capote to around get mitchell stagecoach movie of on hung bad same some for louis talking stagecoach in at movies various but made out movie of passionate capote talking louis in at movies along silly but about more it is soundtrack to in at preying this of guy greater stagecoach stagecoach it cuts movie ambitious who seeing go of passionate capote it cuts movie is occasional to so settings of arrives nor it for of munsters being trying better movie girl various to his they an movie settings about baldwin avoid to civilization he episodes china aren't difference dealing to infected they there's pero being knew for would stagecoach it various more it funny storm for was nothing knowledge in laughed louis me ultimately beat so once but be crash their get just of violence br as on to series such all moments she film of blind broadway ann i i of you knows there is impressive down to of impression it mind not of guy old run believable parent in table are aren't lies john br are across fans films to songs i i what poor comment this leaves only arabia br improve stagecoach to because until bunker pack we who incredibly ensues\n"
       ]
      }
     ],
     "prompt_number": 12
    },
    {
     "cell_type": "markdown",
     "metadata": {},
     "source": [
      "Question 1.2) Find the maximum, minimum and the average number of words per document?\n",
      "\n",
      "Answer:"
     ]
    },
    {
     "cell_type": "code",
     "collapsed": true,
     "input": [
      "### CELL TO COMPLETE (~ 4 lines)\n",
      "print(\"The maximum number of words in a document review is %i \" %max(map(len,x_train)))\n",
      "print(\"The minimum number of words in a document review is %i \" %min(map(len,x_train)))\n",
      "print(\"The average number of words in a document review is %1.1f \" %np.mean(map(len,x_train)))"
     ],
     "language": "python",
     "metadata": {},
     "outputs": [
      {
       "output_type": "stream",
       "stream": "stdout",
       "text": [
        "The maximum number of words in a document review is 2494 \n",
        "The minimum number of words in a document review is 11 \n",
        "The average number of words in a document review is 238.7 \n"
       ]
      }
     ],
     "prompt_number": 46
    },
    {
     "cell_type": "code",
     "collapsed": true,
     "input": [
      "# Shows the total number of labels\n",
      "num_classes = np.max(y_train)+1\n",
      "print('> Number of classes: {}\\n'.format(num_classes))\n",
      "# We select only sequences that contain less or equal than maxlen words\n",
      "# We chosed this value because it is between max and min length words per document but it is a hyperparameter\n",
      "# We limited this value in order to take less time to process sequences\n",
      "maxlen = 500"
     ],
     "language": "python",
     "metadata": {},
     "outputs": [
      {
       "output_type": "stream",
       "stream": "stdout",
       "text": [
        "> Number of classes: 2\n",
        "\n"
       ]
      }
     ],
     "prompt_number": 41
    },
    {
     "cell_type": "markdown",
     "metadata": {},
     "source": [
      "Question 1.3) What is the size of the training and test datasets before and after paddings? Why do we use paddings? What happens if the sequence length is shorter or longer than *maxlen*?\n",
      "\n",
      "Answer:"
     ]
    },
    {
     "cell_type": "code",
     "collapsed": true,
     "input": [
      "# We use all words of vocabulary\n",
      "max_words = len(word_index)\n",
      "print('Vectorizing sequence data...\\n')\n",
      "# Adding padding in sequences with less than max_words\n",
      "X_train = sequence.pad_sequences(x_train, maxlen=maxlen)\n",
      "X_test = sequence.pad_sequences(x_test, maxlen=maxlen)\n",
      "\n",
      "### CELL TO COMPLETE (print information of the last question below) (~ 6 lines)\n",
      "print(\"Before paddings the training data set contains %i reviews and %i after paddings\" %(len(x_train),len(X_train)))\n",
      "print(\"Before paddings the test data set contains %i reviews and %i after paddings\" %(len(x_test),len(X_test)))\n",
      "print(\"If the length is longer than maxlen, we cut the review after 500 words. If it's shorter, we add zeros until the length is 500.\")\n",
      "print(\"We use padddings because the input size for keras has to be the same for every input.\")"
     ],
     "language": "python",
     "metadata": {},
     "outputs": [
      {
       "output_type": "stream",
       "stream": "stdout",
       "text": [
        "Vectorizing sequence data...\n",
        "\n",
        "Before paddings the training data set contains 25000 reviews and 25000 after paddings"
       ]
      },
      {
       "output_type": "stream",
       "stream": "stdout",
       "text": [
        "\n",
        "Before paddings the test data set contains 25000 reviews and 25000 after paddings\n",
        "If the length is longer than maxlen, we cut the review after 500 words. If it's shorter, we add zeros until the length is 500\n",
        "We use padddings because the input size for keras has to be the same for every input.\n"
       ]
      }
     ],
     "prompt_number": 43
    },
    {
     "cell_type": "markdown",
     "metadata": {},
     "source": [
      "## Part 2) Many-to-one sequence logistic classifier\n",
      "\n",
      "**Recall:**\n",
      "\n",
      "The image above shows a simple RNN model that for each time $1 \\leq t \\leq t_{max}$ gives the output vector $o_t$ based on inputs $s_{t-1}$ and $x_t$.\n",
      "\n",
      "In a many-to-one sequence logistic classifier, the final output is $o_{t_{max}}$. In the case of predicting labels for reviews the last output vector is used in the logistic regression. We call in lab session the vector $s_{t_{max}}$ as context vector.\n",
      "\n",
      "We could summarize the RNN model as a function:\n",
      "\n",
      "$$ f_{RNN}(U, V, W; s_0, x_1, x_2, ... x_{t_{max}}) = o_{t_{max}}  = P(y=1 | s_0, x_1, x_2, ..., x_{t_{max}})$$\n",
      "\n",
      "The set of parameters in RNN model to be optimized is $\\theta = \\{U, V, W\\}$.\n",
      "\n",
      "The RNN model is optmized following the binary cross-entropy criteria. For the example $i$:\n",
      "\n",
      "$$L_{i}= -[y_i log  (o_{t_{max}}) + (1-y_i) log (1-o_{t_{max}})]$$\n",
      "\n",
      "The optimization algorithm consists in find a good solution the equation above on the set of training samples:\n",
      "\n",
      "$$ arg_{\\theta} min \\frac{1}{N}\\sum_{i}^{N}L_{i}$$\n",
      "\n",
      "*Specific formulas of the Simple RNN model can be found on material of Deep Learning module*\n",
      "\n",
      "![RNN model](http://www.wildml.com/wp-content/uploads/2015/09/rnn.jpg)\n",
      "RNN model figure extracted from [source rnn](http://www.wildml.com/2015/09/recurrent-neural-networks-tutorial-part-2-implementing-a-language-model-rnn-with-python-numpy-and-theano/)"
     ]
    },
    {
     "cell_type": "markdown",
     "metadata": {},
     "source": [
      "Now, you should test others RNN architectures such as (LSTM and BiLSTM)\n",
      "\n",
      "An Embedding layer in Keras:\n",
      "\n",
      "Turns positive integers (indexes) into dense vectors of fixed size. eg. [[4], [20]] -> [[0.25, 0.1], [0.6, -0.2]]\n",
      "\n",
      "In this last example, we transform the sequence of indexes 4 and 20 into real vectors respectively (0.25, 0.1) and (0.6, -0.2). Each index corresponds to a word in vocabulary. All word vectors are parameters of the model and they are optimized as parameters.\n",
      "\n",
      "[See this link for more information about](https://keras.io/layers/embeddings/)"
     ]
    },
    {
     "cell_type": "heading",
     "level": 2,
     "metadata": {},
     "source": [
      "2.1) Simple RNN model with Embedding Layer"
     ]
    },
    {
     "cell_type": "markdown",
     "metadata": {},
     "source": [
      "Here we give you an example of simple RNN declaration."
     ]
    },
    {
     "cell_type": "code",
     "collapsed": true,
     "input": [
      "from keras.layers import SimpleRNN, Dense, Embedding, Activation\n",
      "from keras.models import Sequential\n",
      "\n",
      "embedding_dims = 300\n",
      "rnn_units = 50\n",
      "\n",
      "print('Build model...')\n",
      "model = Sequential()\n",
      "\n",
      "# max_words is the vocabulary size\n",
      "# embeddings_dim is the dimension of each word embeddings vector\n",
      "# maxlen is the maximum length of each sequence\n",
      "# Embedding layer definition\n",
      "model.add(Embedding(max_words, embedding_dims, input_length=maxlen))\n",
      "# Recurrent layer definition\n",
      "model.add(SimpleRNN(rnn_units, activation='tanh', return_sequences=False)) # Output of this layer is the context vector\n",
      "# Linear layer definition\n",
      "model.add(Dense(num_classes-1))\n",
      "# Non-linear function bounded (0 to 1)\n",
      "model.add(Activation('sigmoid'))\n",
      "\n",
      "model.compile(loss='binary_crossentropy', optimizer='adam', metrics=['acc'])\n",
      "# Show the model architecture\n",
      "print (model.summary())"
     ],
     "language": "python",
     "metadata": {},
     "outputs": [
      {
       "output_type": "stream",
       "stream": "stdout",
       "text": [
        "Build model...\n",
        "_________________________________________________________________"
       ]
      },
      {
       "output_type": "stream",
       "stream": "stdout",
       "text": [
        "\n",
        "Layer (type)                 Output Shape              Param #   \n",
        "=================================================================\n",
        "embedding_1 (Embedding)      (None, 500, 300)          26575200  \n",
        "_________________________________________________________________\n",
        "simple_rnn_1 (SimpleRNN)     (None, 50)                17550     \n",
        "_________________________________________________________________\n",
        "dense_1 (Dense)              (None, 1)                 51        \n",
        "_________________________________________________________________\n",
        "activation_1 (Activation)    (None, 1)                 0         \n",
        "=================================================================\n",
        "Total params: 26,592,801\n",
        "Trainable params: 26,592,801\n",
        "Non-trainable params: 0\n",
        "_________________________________________________________________\n",
        "None\n"
       ]
      }
     ],
     "prompt_number": 44
    },
    {
     "cell_type": "code",
     "collapsed": true,
     "input": [
      "# Train model\n",
      "batch_size=128\n",
      "num_epochs=5\n",
      "\n",
      "print('Now it takes time...')\n",
      "model.fit(X_train, y_train, batch_size=batch_size, epochs=num_epochs, validation_data=(X_test, y_test), verbose=2)\n",
      "\n",
      "\n",
      "# Evaluate model\n",
      "test_loss, acc = model.evaluate(X_test, y_test, batch_size=batch_size)\n",
      "    \n",
      "print('Test loss: %1.4f' % test_loss)\n",
      "print('Test Accuracy: %1.4f' % acc)"
     ],
     "language": "python",
     "metadata": {},
     "outputs": [
      {
       "output_type": "stream",
       "stream": "stdout",
       "text": [
        "Train on 25000 samples, validate on 25000 samples\n",
        "Epoch 1/5\n",
        " - 80s - loss: 0.4904 - acc: 0.7642 - val_loss: 0.4444 - val_acc: 0.8021\n"
       ]
      },
      {
       "output_type": "stream",
       "stream": "stdout",
       "text": [
        "Epoch 2/5\n",
        " - 48s - loss: 0.2744 - acc: 0.8922 - val_loss: 0.4242 - val_acc: 0.8213\n"
       ]
      },
      {
       "output_type": "stream",
       "stream": "stdout",
       "text": [
        "Epoch 3/5\n",
        " - 49s - loss: 0.0732 - acc: 0.9777 - val_loss: 0.4615 - val_acc: 0.8290\n"
       ]
      },
      {
       "output_type": "stream",
       "stream": "stdout",
       "text": [
        "Epoch 4/5\n",
        " - 48s - loss: 0.0164 - acc: 0.9967 - val_loss: 0.5847 - val_acc: 0.8396\n"
       ]
      },
      {
       "output_type": "stream",
       "stream": "stdout",
       "text": [
        "Epoch 5/5\n",
        " - 48s - loss: 0.0114 - acc: 0.9977 - val_loss: 0.6095 - val_acc: 0.8212\n"
       ]
      },
      {
       "output_type": "stream",
       "stream": "stdout",
       "text": [
        "Now it takes time...\n",
        "\n"
       ]
      },
      {
       "output_type": "stream",
       "stream": "stdout",
       "text": [
        "  128/25000 [..............................] - ETA: 10s"
       ]
      },
      {
       "output_type": "stream",
       "stream": "stdout",
       "text": [
        "\n",
        "  256/25000 [..............................] - ETA: 10s"
       ]
      },
      {
       "output_type": "stream",
       "stream": "stdout",
       "text": [
        "\n",
        "  384/25000 [..............................] - ETA: 10s"
       ]
      },
      {
       "output_type": "stream",
       "stream": "stdout",
       "text": [
        "\n",
        "  640/25000 [..............................] - ETA: 9s "
       ]
      },
      {
       "output_type": "stream",
       "stream": "stdout",
       "text": [
        "\n",
        "  768/25000 [..............................] - ETA: 9s"
       ]
      },
      {
       "output_type": "stream",
       "stream": "stdout",
       "text": [
        "\n",
        "  896/25000 [>.............................] - ETA: 9s"
       ]
      },
      {
       "output_type": "stream",
       "stream": "stdout",
       "text": [
        "\n",
        " 1152/25000 [>.............................] - ETA: 9s"
       ]
      },
      {
       "output_type": "stream",
       "stream": "stdout",
       "text": [
        "\n",
        " 1280/25000 [>.............................] - ETA: 9s"
       ]
      },
      {
       "output_type": "stream",
       "stream": "stdout",
       "text": [
        "\n",
        " 1408/25000 [>.............................] - ETA: 9s"
       ]
      },
      {
       "output_type": "stream",
       "stream": "stdout",
       "text": [
        "\n",
        " 1536/25000 [>.............................] - ETA: 9s"
       ]
      },
      {
       "output_type": "stream",
       "stream": "stdout",
       "text": [
        "\n",
        " 1664/25000 [>.............................] - ETA: 9s"
       ]
      },
      {
       "output_type": "stream",
       "stream": "stdout",
       "text": [
        "\n",
        " 1792/25000 [=>............................] - ETA: 9s"
       ]
      },
      {
       "output_type": "stream",
       "stream": "stdout",
       "text": [
        "\n",
        " 1920/25000 [=>............................] - ETA: 9s"
       ]
      },
      {
       "output_type": "stream",
       "stream": "stdout",
       "text": [
        "\n",
        " 2048/25000 [=>............................] - ETA: 9s"
       ]
      },
      {
       "output_type": "stream",
       "stream": "stdout",
       "text": [
        "\n",
        " 2176/25000 [=>............................] - ETA: 9s"
       ]
      },
      {
       "output_type": "stream",
       "stream": "stdout",
       "text": [
        "\n",
        " 2432/25000 [=>............................] - ETA: 9s"
       ]
      },
      {
       "output_type": "stream",
       "stream": "stdout",
       "text": [
        "\n",
        " 2560/25000 [==>...........................] - ETA: 9s"
       ]
      },
      {
       "output_type": "stream",
       "stream": "stdout",
       "text": [
        "\n",
        " 2688/25000 [==>...........................] - ETA: 9s"
       ]
      },
      {
       "output_type": "stream",
       "stream": "stdout",
       "text": [
        "\n",
        " 2944/25000 [==>...........................] - ETA: 8s"
       ]
      },
      {
       "output_type": "stream",
       "stream": "stdout",
       "text": [
        "\n",
        " 3072/25000 [==>...........................] - ETA: 8s"
       ]
      },
      {
       "output_type": "stream",
       "stream": "stdout",
       "text": [
        "\n",
        " 3200/25000 [==>...........................] - ETA: 8s"
       ]
      },
      {
       "output_type": "stream",
       "stream": "stdout",
       "text": [
        "\n",
        " 3456/25000 [===>..........................] - ETA: 8s"
       ]
      },
      {
       "output_type": "stream",
       "stream": "stdout",
       "text": [
        "\n",
        " 3584/25000 [===>..........................] - ETA: 8s"
       ]
      },
      {
       "output_type": "stream",
       "stream": "stdout",
       "text": [
        "\n",
        " 3712/25000 [===>..........................] - ETA: 8s"
       ]
      },
      {
       "output_type": "stream",
       "stream": "stdout",
       "text": [
        "\n",
        " 3840/25000 [===>..........................] - ETA: 8s"
       ]
      },
      {
       "output_type": "stream",
       "stream": "stdout",
       "text": [
        "\n",
        " 3968/25000 [===>..........................] - ETA: 8s"
       ]
      },
      {
       "output_type": "stream",
       "stream": "stdout",
       "text": [
        "\n",
        " 4096/25000 [===>..........................] - ETA: 8s"
       ]
      },
      {
       "output_type": "stream",
       "stream": "stdout",
       "text": [
        "\n",
        " 4352/25000 [====>.........................] - ETA: 8s"
       ]
      },
      {
       "output_type": "stream",
       "stream": "stdout",
       "text": [
        "\n",
        " 4480/25000 [====>.........................] - ETA: 8s"
       ]
      },
      {
       "output_type": "stream",
       "stream": "stdout",
       "text": [
        "\n",
        " 4608/25000 [====>.........................] - ETA: 8s"
       ]
      },
      {
       "output_type": "stream",
       "stream": "stdout",
       "text": [
        "\n",
        " 4864/25000 [====>.........................] - ETA: 7s"
       ]
      },
      {
       "output_type": "stream",
       "stream": "stdout",
       "text": [
        "\n",
        " 4992/25000 [====>.........................] - ETA: 7s"
       ]
      },
      {
       "output_type": "stream",
       "stream": "stdout",
       "text": [
        "\n",
        " 5120/25000 [=====>........................] - ETA: 7s"
       ]
      },
      {
       "output_type": "stream",
       "stream": "stdout",
       "text": [
        "\n",
        " 5376/25000 [=====>........................] - ETA: 7s"
       ]
      },
      {
       "output_type": "stream",
       "stream": "stdout",
       "text": [
        "\n",
        " 5632/25000 [=====>........................] - ETA: 7s"
       ]
      },
      {
       "output_type": "stream",
       "stream": "stdout",
       "text": [
        "\n",
        " 5888/25000 [======>.......................] - ETA: 7s"
       ]
      },
      {
       "output_type": "stream",
       "stream": "stdout",
       "text": [
        "\n",
        " 6144/25000 [======>.......................] - ETA: 7s"
       ]
      },
      {
       "output_type": "stream",
       "stream": "stdout",
       "text": [
        "\n",
        " 6272/25000 [======>.......................] - ETA: 7s"
       ]
      },
      {
       "output_type": "stream",
       "stream": "stdout",
       "text": [
        "\n",
        " 6400/25000 [======>.......................] - ETA: 7s"
       ]
      },
      {
       "output_type": "stream",
       "stream": "stdout",
       "text": [
        "\n",
        " 6656/25000 [======>.......................] - ETA: 7s"
       ]
      },
      {
       "output_type": "stream",
       "stream": "stdout",
       "text": [
        "\n",
        " 6784/25000 [=======>......................] - ETA: 7s"
       ]
      },
      {
       "output_type": "stream",
       "stream": "stdout",
       "text": [
        "\n",
        " 6912/25000 [=======>......................] - ETA: 7s"
       ]
      },
      {
       "output_type": "stream",
       "stream": "stdout",
       "text": [
        "\n",
        " 7040/25000 [=======>......................] - ETA: 7s"
       ]
      },
      {
       "output_type": "stream",
       "stream": "stdout",
       "text": [
        "\n",
        " 7168/25000 [=======>......................] - ETA: 7s"
       ]
      },
      {
       "output_type": "stream",
       "stream": "stdout",
       "text": [
        "\n",
        " 7296/25000 [=======>......................] - ETA: 6s"
       ]
      },
      {
       "output_type": "stream",
       "stream": "stdout",
       "text": [
        "\n",
        " 7552/25000 [========>.....................] - ETA: 6s"
       ]
      },
      {
       "output_type": "stream",
       "stream": "stdout",
       "text": [
        "\n",
        " 7680/25000 [========>.....................] - ETA: 6s"
       ]
      },
      {
       "output_type": "stream",
       "stream": "stdout",
       "text": [
        "\n",
        " 7808/25000 [========>.....................] - ETA: 6s"
       ]
      },
      {
       "output_type": "stream",
       "stream": "stdout",
       "text": [
        "\n",
        " 7936/25000 [========>.....................] - ETA: 6s"
       ]
      },
      {
       "output_type": "stream",
       "stream": "stdout",
       "text": [
        "\n",
        " 8064/25000 [========>.....................] - ETA: 6s"
       ]
      },
      {
       "output_type": "stream",
       "stream": "stdout",
       "text": [
        "\n",
        " 8192/25000 [========>.....................] - ETA: 6s"
       ]
      },
      {
       "output_type": "stream",
       "stream": "stdout",
       "text": [
        "\n",
        " 8320/25000 [========>.....................] - ETA: 6s"
       ]
      },
      {
       "output_type": "stream",
       "stream": "stdout",
       "text": [
        "\n",
        " 8448/25000 [=========>....................] - ETA: 6s"
       ]
      },
      {
       "output_type": "stream",
       "stream": "stdout",
       "text": [
        "\n",
        " 8576/25000 [=========>....................] - ETA: 6s"
       ]
      },
      {
       "output_type": "stream",
       "stream": "stdout",
       "text": [
        "\n",
        " 8704/25000 [=========>....................] - ETA: 6s"
       ]
      },
      {
       "output_type": "stream",
       "stream": "stdout",
       "text": [
        "\n",
        " 8832/25000 [=========>....................] - ETA: 6s"
       ]
      },
      {
       "output_type": "stream",
       "stream": "stdout",
       "text": [
        "\n",
        " 9088/25000 [=========>....................] - ETA: 6s"
       ]
      },
      {
       "output_type": "stream",
       "stream": "stdout",
       "text": [
        "\n",
        " 9216/25000 [==========>...................] - ETA: 6s"
       ]
      },
      {
       "output_type": "stream",
       "stream": "stdout",
       "text": [
        "\n",
        " 9344/25000 [==========>...................] - ETA: 6s"
       ]
      },
      {
       "output_type": "stream",
       "stream": "stdout",
       "text": [
        "\n",
        " 9600/25000 [==========>...................] - ETA: 6s"
       ]
      },
      {
       "output_type": "stream",
       "stream": "stdout",
       "text": [
        "\n",
        " 9728/25000 [==========>...................] - ETA: 6s"
       ]
      },
      {
       "output_type": "stream",
       "stream": "stdout",
       "text": [
        "\n",
        " 9856/25000 [==========>...................] - ETA: 6s"
       ]
      },
      {
       "output_type": "stream",
       "stream": "stdout",
       "text": [
        "\n",
        " 9984/25000 [==========>...................] - ETA: 5s"
       ]
      },
      {
       "output_type": "stream",
       "stream": "stdout",
       "text": [
        "\n",
        "10240/25000 [===========>..................] - ETA: 5s"
       ]
      },
      {
       "output_type": "stream",
       "stream": "stdout",
       "text": [
        "\n",
        "10368/25000 [===========>..................] - ETA: 5s"
       ]
      },
      {
       "output_type": "stream",
       "stream": "stdout",
       "text": [
        "\n",
        "10624/25000 [===========>..................] - ETA: 5s"
       ]
      },
      {
       "output_type": "stream",
       "stream": "stdout",
       "text": [
        "\n",
        "10880/25000 [============>.................] - ETA: 5s"
       ]
      },
      {
       "output_type": "stream",
       "stream": "stdout",
       "text": [
        "\n",
        "11008/25000 [============>.................] - ETA: 5s"
       ]
      },
      {
       "output_type": "stream",
       "stream": "stdout",
       "text": [
        "\n",
        "11136/25000 [============>.................] - ETA: 5s"
       ]
      },
      {
       "output_type": "stream",
       "stream": "stdout",
       "text": [
        "\n",
        "11264/25000 [============>.................] - ETA: 5s"
       ]
      },
      {
       "output_type": "stream",
       "stream": "stdout",
       "text": [
        "\n",
        "11520/25000 [============>.................] - ETA: 5s"
       ]
      },
      {
       "output_type": "stream",
       "stream": "stdout",
       "text": [
        "\n",
        "11776/25000 [=============>................] - ETA: 5s"
       ]
      },
      {
       "output_type": "stream",
       "stream": "stdout",
       "text": [
        "\n",
        "11904/25000 [=============>................] - ETA: 5s"
       ]
      },
      {
       "output_type": "stream",
       "stream": "stdout",
       "text": [
        "\n",
        "12160/25000 [=============>................] - ETA: 5s"
       ]
      },
      {
       "output_type": "stream",
       "stream": "stdout",
       "text": [
        "\n",
        "12416/25000 [=============>................] - ETA: 4s"
       ]
      },
      {
       "output_type": "stream",
       "stream": "stdout",
       "text": [
        "\n",
        "12672/25000 [==============>...............] - ETA: 4s"
       ]
      },
      {
       "output_type": "stream",
       "stream": "stdout",
       "text": [
        "\n",
        "12800/25000 [==============>...............] - ETA: 4s"
       ]
      },
      {
       "output_type": "stream",
       "stream": "stdout",
       "text": [
        "\n",
        "13056/25000 [==============>...............] - ETA: 4s"
       ]
      },
      {
       "output_type": "stream",
       "stream": "stdout",
       "text": [
        "\n",
        "13184/25000 [==============>...............] - ETA: 4s"
       ]
      },
      {
       "output_type": "stream",
       "stream": "stdout",
       "text": [
        "\n",
        "13312/25000 [==============>...............] - ETA: 4s"
       ]
      },
      {
       "output_type": "stream",
       "stream": "stdout",
       "text": [
        "\n",
        "13568/25000 [===============>..............] - ETA: 4s"
       ]
      },
      {
       "output_type": "stream",
       "stream": "stdout",
       "text": [
        "\n",
        "13824/25000 [===============>..............] - ETA: 4s"
       ]
      },
      {
       "output_type": "stream",
       "stream": "stdout",
       "text": [
        "\n",
        "13952/25000 [===============>..............] - ETA: 4s"
       ]
      },
      {
       "output_type": "stream",
       "stream": "stdout",
       "text": [
        "\n",
        "14080/25000 [===============>..............] - ETA: 4s"
       ]
      },
      {
       "output_type": "stream",
       "stream": "stdout",
       "text": [
        "\n",
        "14336/25000 [================>.............] - ETA: 4s"
       ]
      },
      {
       "output_type": "stream",
       "stream": "stdout",
       "text": [
        "\n",
        "14464/25000 [================>.............] - ETA: 4s"
       ]
      },
      {
       "output_type": "stream",
       "stream": "stdout",
       "text": [
        "\n",
        "14592/25000 [================>.............] - ETA: 4s"
       ]
      },
      {
       "output_type": "stream",
       "stream": "stdout",
       "text": [
        "\n",
        "14848/25000 [================>.............] - ETA: 3s"
       ]
      },
      {
       "output_type": "stream",
       "stream": "stdout",
       "text": [
        "\n",
        "14976/25000 [================>.............] - ETA: 3s"
       ]
      },
      {
       "output_type": "stream",
       "stream": "stdout",
       "text": [
        "\n",
        "15104/25000 [=================>............] - ETA: 3s"
       ]
      },
      {
       "output_type": "stream",
       "stream": "stdout",
       "text": [
        "\n",
        "15232/25000 [=================>............] - ETA: 3s"
       ]
      },
      {
       "output_type": "stream",
       "stream": "stdout",
       "text": [
        "\n",
        "15360/25000 [=================>............] - ETA: 3s"
       ]
      },
      {
       "output_type": "stream",
       "stream": "stdout",
       "text": [
        "\n",
        "15488/25000 [=================>............] - ETA: 3s"
       ]
      },
      {
       "output_type": "stream",
       "stream": "stdout",
       "text": [
        "\n",
        "15616/25000 [=================>............] - ETA: 3s"
       ]
      },
      {
       "output_type": "stream",
       "stream": "stdout",
       "text": [
        "\n",
        "15872/25000 [==================>...........] - ETA: 3s"
       ]
      },
      {
       "output_type": "stream",
       "stream": "stdout",
       "text": [
        "\n",
        "16000/25000 [==================>...........] - ETA: 3s"
       ]
      },
      {
       "output_type": "stream",
       "stream": "stdout",
       "text": [
        "\n",
        "16128/25000 [==================>...........] - ETA: 3s"
       ]
      },
      {
       "output_type": "stream",
       "stream": "stdout",
       "text": [
        "\n",
        "16384/25000 [==================>...........] - ETA: 3s"
       ]
      },
      {
       "output_type": "stream",
       "stream": "stdout",
       "text": [
        "\n",
        "16512/25000 [==================>...........] - ETA: 3s"
       ]
      },
      {
       "output_type": "stream",
       "stream": "stdout",
       "text": [
        "\n",
        "16768/25000 [===================>..........] - ETA: 3s"
       ]
      },
      {
       "output_type": "stream",
       "stream": "stdout",
       "text": [
        "\n",
        "16896/25000 [===================>..........] - ETA: 3s"
       ]
      },
      {
       "output_type": "stream",
       "stream": "stdout",
       "text": [
        "\n",
        "17024/25000 [===================>..........] - ETA: 3s"
       ]
      },
      {
       "output_type": "stream",
       "stream": "stdout",
       "text": [
        "\n",
        "17280/25000 [===================>..........] - ETA: 3s"
       ]
      },
      {
       "output_type": "stream",
       "stream": "stdout",
       "text": [
        "\n",
        "17408/25000 [===================>..........] - ETA: 2s"
       ]
      },
      {
       "output_type": "stream",
       "stream": "stdout",
       "text": [
        "\n",
        "17536/25000 [====================>.........] - ETA: 2s"
       ]
      },
      {
       "output_type": "stream",
       "stream": "stdout",
       "text": [
        "\n",
        "17664/25000 [====================>.........] - ETA: 2s"
       ]
      },
      {
       "output_type": "stream",
       "stream": "stdout",
       "text": [
        "\n",
        "17792/25000 [====================>.........] - ETA: 2s"
       ]
      },
      {
       "output_type": "stream",
       "stream": "stdout",
       "text": [
        "\n",
        "18048/25000 [====================>.........] - ETA: 2s"
       ]
      },
      {
       "output_type": "stream",
       "stream": "stdout",
       "text": [
        "\n",
        "18176/25000 [====================>.........] - ETA: 2s"
       ]
      },
      {
       "output_type": "stream",
       "stream": "stdout",
       "text": [
        "\n",
        "18304/25000 [====================>.........] - ETA: 2s"
       ]
      },
      {
       "output_type": "stream",
       "stream": "stdout",
       "text": [
        "\n",
        "18432/25000 [=====================>........] - ETA: 2s"
       ]
      },
      {
       "output_type": "stream",
       "stream": "stdout",
       "text": [
        "\n",
        "18560/25000 [=====================>........] - ETA: 2s"
       ]
      },
      {
       "output_type": "stream",
       "stream": "stdout",
       "text": [
        "\n",
        "18688/25000 [=====================>........] - ETA: 2s"
       ]
      },
      {
       "output_type": "stream",
       "stream": "stdout",
       "text": [
        "\n",
        "18944/25000 [=====================>........] - ETA: 2s"
       ]
      },
      {
       "output_type": "stream",
       "stream": "stdout",
       "text": [
        "\n",
        "19072/25000 [=====================>........] - ETA: 2s"
       ]
      },
      {
       "output_type": "stream",
       "stream": "stdout",
       "text": [
        "\n",
        "19200/25000 [======================>.......] - ETA: 2s"
       ]
      },
      {
       "output_type": "stream",
       "stream": "stdout",
       "text": [
        "\n",
        "19328/25000 [======================>.......] - ETA: 2s"
       ]
      },
      {
       "output_type": "stream",
       "stream": "stdout",
       "text": [
        "\n",
        "19584/25000 [======================>.......] - ETA: 2s"
       ]
      },
      {
       "output_type": "stream",
       "stream": "stdout",
       "text": [
        "\n",
        "19712/25000 [======================>.......] - ETA: 2s"
       ]
      },
      {
       "output_type": "stream",
       "stream": "stdout",
       "text": [
        "\n",
        "19840/25000 [======================>.......] - ETA: 2s"
       ]
      },
      {
       "output_type": "stream",
       "stream": "stdout",
       "text": [
        "\n",
        "19968/25000 [======================>.......] - ETA: 1s"
       ]
      },
      {
       "output_type": "stream",
       "stream": "stdout",
       "text": [
        "\n",
        "20224/25000 [=======================>......] - ETA: 1s"
       ]
      },
      {
       "output_type": "stream",
       "stream": "stdout",
       "text": [
        "\n",
        "20352/25000 [=======================>......] - ETA: 1s"
       ]
      },
      {
       "output_type": "stream",
       "stream": "stdout",
       "text": [
        "\n",
        "20480/25000 [=======================>......] - ETA: 1s"
       ]
      },
      {
       "output_type": "stream",
       "stream": "stdout",
       "text": [
        "\n",
        "20608/25000 [=======================>......] - ETA: 1s"
       ]
      },
      {
       "output_type": "stream",
       "stream": "stdout",
       "text": [
        "\n",
        "20864/25000 [========================>.....] - ETA: 1s"
       ]
      },
      {
       "output_type": "stream",
       "stream": "stdout",
       "text": [
        "\n",
        "21120/25000 [========================>.....] - ETA: 1s"
       ]
      },
      {
       "output_type": "stream",
       "stream": "stdout",
       "text": [
        "\n",
        "21248/25000 [========================>.....] - ETA: 1s"
       ]
      },
      {
       "output_type": "stream",
       "stream": "stdout",
       "text": [
        "\n",
        "21376/25000 [========================>.....] - ETA: 1s"
       ]
      },
      {
       "output_type": "stream",
       "stream": "stdout",
       "text": [
        "\n",
        "21504/25000 [========================>.....] - ETA: 1s"
       ]
      },
      {
       "output_type": "stream",
       "stream": "stdout",
       "text": [
        "\n",
        "21632/25000 [========================>.....] - ETA: 1s"
       ]
      },
      {
       "output_type": "stream",
       "stream": "stdout",
       "text": [
        "\n",
        "21888/25000 [=========================>....] - ETA: 1s"
       ]
      },
      {
       "output_type": "stream",
       "stream": "stdout",
       "text": [
        "\n",
        "22016/25000 [=========================>....] - ETA: 1s"
       ]
      },
      {
       "output_type": "stream",
       "stream": "stdout",
       "text": [
        "\n",
        "22144/25000 [=========================>....] - ETA: 1s"
       ]
      },
      {
       "output_type": "stream",
       "stream": "stdout",
       "text": [
        "\n",
        "22400/25000 [=========================>....] - ETA: 1s"
       ]
      },
      {
       "output_type": "stream",
       "stream": "stdout",
       "text": [
        "\n",
        "22528/25000 [==========================>...] - ETA: 0s"
       ]
      },
      {
       "output_type": "stream",
       "stream": "stdout",
       "text": [
        "\n",
        "22784/25000 [==========================>...] - ETA: 0s"
       ]
      },
      {
       "output_type": "stream",
       "stream": "stdout",
       "text": [
        "\n",
        "22912/25000 [==========================>...] - ETA: 0s"
       ]
      },
      {
       "output_type": "stream",
       "stream": "stdout",
       "text": [
        "\n",
        "23040/25000 [==========================>...] - ETA: 0s"
       ]
      },
      {
       "output_type": "stream",
       "stream": "stdout",
       "text": [
        "\n",
        "23296/25000 [==========================>...] - ETA: 0s"
       ]
      },
      {
       "output_type": "stream",
       "stream": "stdout",
       "text": [
        "\n",
        "23424/25000 [===========================>..] - ETA: 0s"
       ]
      },
      {
       "output_type": "stream",
       "stream": "stdout",
       "text": [
        "\n",
        "23552/25000 [===========================>..] - ETA: 0s"
       ]
      },
      {
       "output_type": "stream",
       "stream": "stdout",
       "text": [
        "\n",
        "23808/25000 [===========================>..] - ETA: 0s"
       ]
      },
      {
       "output_type": "stream",
       "stream": "stdout",
       "text": [
        "\n",
        "23936/25000 [===========================>..] - ETA: 0s"
       ]
      },
      {
       "output_type": "stream",
       "stream": "stdout",
       "text": [
        "\n",
        "24192/25000 [============================>.] - ETA: 0s"
       ]
      },
      {
       "output_type": "stream",
       "stream": "stdout",
       "text": [
        "\n",
        "24320/25000 [============================>.] - ETA: 0s"
       ]
      },
      {
       "output_type": "stream",
       "stream": "stdout",
       "text": [
        "\n",
        "24448/25000 [============================>.] - ETA: 0s"
       ]
      },
      {
       "output_type": "stream",
       "stream": "stdout",
       "text": [
        "\n",
        "24576/25000 [============================>.] - ETA: 0s"
       ]
      },
      {
       "output_type": "stream",
       "stream": "stdout",
       "text": [
        "\n",
        "24704/25000 [============================>.] - ETA: 0s"
       ]
      },
      {
       "output_type": "stream",
       "stream": "stdout",
       "text": [
        "\n",
        "24960/25000 [============================>.] - ETA: 0s"
       ]
      },
      {
       "output_type": "stream",
       "stream": "stdout",
       "text": [
        "\n",
        "25000/25000 [==============================] - 10s 396us/step\n"
       ]
      },
      {
       "output_type": "stream",
       "stream": "stdout",
       "text": [
        "Test loss: 0.6095\n",
        "Test Accuracy: 0.8212\n"
       ]
      }
     ],
     "prompt_number": 45
    },
    {
     "cell_type": "markdown",
     "metadata": {},
     "source": [
      "Question 2.1) What does the option *return_sequences=False* in *SimpleRNN* layer definition ? If this option is activated, what should be the *output shape* of Recurrent layer?\n",
      "\n",
      "Answer: \n",
      "It passes only the final decision to the dense layer and not the whole sequence of intermidiate decisions. If this option were to be activated, the output shape of Recurrent layer would be (500*50)"
     ]
    },
    {
     "cell_type": "markdown",
     "metadata": {},
     "source": [
      "## 2.2) LSTM/ BiLSTM model with Embedding Layer\n",
      "\n",
      "*Specific formulas of LSTM model can be found on material of Deep Learning module.*\n",
      "\n",
      "The LSTM model is more complex than the RNN model. It is pictured in the figure above:\n",
      "\n",
      "![LSTM model](http://colah.github.io/posts/2015-08-Understanding-LSTMs/img/LSTM3-chain.png)\n",
      "\n"
     ]
    },
    {
     "cell_type": "markdown",
     "metadata": {},
     "source": [
      "Question 2.2) What are the advantages (two minimum) in using LSTM instead of a simple RNN model ?\n",
      "\n",
      "Answer:\n",
      "\n",
      "Question 2.3) What is the bidirectional recurrent architecture ? What kind of operation is performed in context vectors of each direction ?\n",
      "\n",
      "Answer:\n",
      "\n",
      "Question 2.4) Write your own LSTM and/or Bidirectional LSTM model and compare the results with simple RNN model. (use *CuDNNLSTM* layer instead of *LSTM* for faster results) \n"
     ]
    },
    {
     "cell_type": "code",
     "collapsed": true,
     "input": [
      "### CELL TO COMPLETE"
     ],
     "language": "python",
     "metadata": {},
     "outputs": [],
     "prompt_number": null
    },
    {
     "cell_type": "markdown",
     "metadata": {},
     "source": [
      "Question 2.4) What do you propose in order to improve the results ? (Hint: verify the results of previous models and think about overfitting and underfitting)\n",
      "\n",
      "For instance you can use regularization methods:\n",
      "- (Hint: use the regularization method just after the *Embedding* layer)\n",
      "- Describe the regurization method used\n",
      "- Compare the results\n",
      "\n",
      "Please implement and build our own model here...\n",
      "\n",
      "Answer:"
     ]
    },
    {
     "cell_type": "code",
     "collapsed": true,
     "input": [
      "### CELL TO COMPLETE"
     ],
     "language": "python",
     "metadata": {},
     "outputs": [],
     "prompt_number": null
    },
    {
     "cell_type": "markdown",
     "metadata": {},
     "source": [
      "## Part 3) Analysis of results and data visualization \n",
      "### 3.1 ) t-SNE 2D Visualization of context vectors (test data)"
     ]
    },
    {
     "cell_type": "markdown",
     "metadata": {},
     "source": [
      "t-distributed Stochastic Neighbor Embedding (t-SNE)[1] is a non-supervised technique of visualization of high-dimensional data based on KL divergence probabilities approximation to construct a manifold.\n",
      "\n",
      "[t-SNE sklearn manifold](http://scikit-learn.org/stable/modules/generated/sklearn.manifold.TSNE.html)\n",
      "\n",
      "[1] Maaten, Laurens van der, and Geoffrey Hinton. \"Visualizing data using t-SNE.\" Journal of machine learning research 9, no. Nov (2008): 2579-2605.\n",
      "\n",
      "In this example, we will use this technique to visualize context vectors of each document (review) in a 2D space. The original euclidian distance between high dimensional context vectors is mostly preserved. Therefore, we can have an idea of the projection of context vectors in a 2D space. \n",
      "\n",
      "We will plot this representation using a scatter plot (please use a sub-sampling of test data for visualization)\n",
      "\n",
      "[scatter plot matplotlib](https://matplotlib.org/gallery/shapes_and_collections/scatter.html)\n",
      "\n",
      "*plt.scatter(proj_x, proj_y, c=y_test, cmap='rainbow')*\n",
      "\n",
      "The colors of the points will represent the real label (positive or negative review) of the predicted context vector.\n",
      "\n",
      "Apply this method in context vectors (for training and testing data) to perform a visual analysis\n"
     ]
    },
    {
     "cell_type": "code",
     "collapsed": true,
     "input": [
      "from sklearn.manifold import TSNE\n",
      "import math\n",
      "from keras import backend as K\n",
      "%matplotlib inline\n",
      "import matplotlib.pyplot as plt\n",
      "\n",
      "# Function that takes the output of a specific layer of the model\n",
      "def get_activations(model, id_layer, X_batch): # PAY ATTENTION TO THE ID_LAYER !!!!\n",
      "    get_activations = K.function([model.layers[0].input, K.learning_phase()], [model.layers[id_layer].output])\n",
      "    activations = get_activations([X_batch,0])\n",
      "    return activations\n",
      "\n",
      "#  Function that takes the output of a rnn layer of the model (use batchs)\n",
      "def get_context_vectors(model, X, id_rnn_layer = 1):\n",
      "    batch_size_test = 1024\n",
      "    h_context = get_activations(model, id_rnn_layer, X[0,:].reshape(1,-1))[0]\n",
      "    divs = math.floor(X.shape[0]/batch_size_test)\n",
      "    h_ = np.zeros((X.shape[0], rnn_units))\n",
      "    for i in range(int(divs)):\n",
      "        h_context = get_activations(model, id_rnn_layer, X_test[i*batch_size_test:(i+1)*batch_size_test,:].reshape(batch_size_test,-1))[0]\n",
      "        h_[i*batch_size_test:(i+1)*batch_size_test,:] = h_context.reshape(-1, rnn_units)\n",
      "    if X.shape[0] > divs*batch_size_test:\n",
      "        first_id = int(divs*batch_size_test)\n",
      "        h_context = get_activations(model,  id_rnn_layer, X[first_id :,:])[0]\n",
      "        h_[first_id :,:] = h_context.reshape(-1, rnn_units)\n",
      "    h_ = np.asarray(h_).reshape(-1, rnn_units)\n",
      "    return h_"
     ],
     "language": "python",
     "metadata": {},
     "outputs": [],
     "prompt_number": null
    },
    {
     "cell_type": "markdown",
     "metadata": {},
     "source": [
      "Question 3.1) Get context vectors (for training and test data) and complete the tsne transformation of these vectors and then plot using scatter function of matplotlib with a colorbar (Hint: use *get_context_vectors* function and specify correctly the id of the layer). \n",
      "What means the obtained results ?\n",
      "\n",
      "Answer:"
     ]
    },
    {
     "cell_type": "code",
     "collapsed": true,
     "input": [
      "# Then plot using scatter function of matplotlib\n",
      "n_subsamples = 1000"
     ],
     "language": "python",
     "metadata": {},
     "outputs": [],
     "prompt_number": null
    },
    {
     "cell_type": "code",
     "collapsed": true,
     "input": [
      "# Please get context vectors and complete the tsne transformation of these vectors\n",
      "### CELL TO COMPLETE (~ 4 lines)"
     ],
     "language": "python",
     "metadata": {},
     "outputs": [],
     "prompt_number": null
    },
    {
     "cell_type": "markdown",
     "metadata": {},
     "source": [
      "### 3.2 ) Show output probabilities (sigmoid output) for each word of a random review on test data\n",
      "\n",
      "The objective of this subsection is getting predictions of each word added in the sequence. This type of analysis increases the interpretability of the RNN decision. To identify when the model changes the decision for example. \n",
      "\n",
      "- Get a random review on test data with less than 30 words (count the number of non-zeros entries because padding is indexed by 0 element)\n",
      "- Iterate until find first random review with less than 30 words\n",
      "- Converts the numpy sample in a list of integers without padding\n",
      "- Show the raw text of the review (use function *indexes_to_text*)"
     ]
    },
    {
     "cell_type": "code",
     "collapsed": true,
     "input": [
      "import random\n",
      "\n",
      "max_words_constraint=30\n",
      "non_zeros_indexes=X_test.shape[1]\n",
      "\n",
      "# Get a random review with less than max_words_contraint words\n",
      "while non_zeros_indexes > max_words_constraint:\n",
      "    id_random_review = random.randint(0, int(X_test.shape[0]))\n",
      "    non_zeros_indexes = len(np.nonzero(X_test[int(id_random_review),:])[0])\n",
      "    \n",
      "# Create a list of non-zeros elements for remove padding\n",
      "random_review_sample = list()\n",
      "for i in X_test[id_random_review,:].reshape(-1).tolist():\n",
      "    if i != 0:\n",
      "        random_review_sample.append(i)\n",
      "print(indexes_to_text(random_review_sample))"
     ],
     "language": "python",
     "metadata": {},
     "outputs": [],
     "prompt_number": null
    },
    {
     "cell_type": "markdown",
     "metadata": {},
     "source": [
      "Question 3.2)\n",
      "\n",
      "- Add words progressively (get one word per time and creates a new sub-sequence containing past words)\n",
      "- Create sub-sequences of words and add padding for each one of these sub-sequences (Hint: use function *sequence.pad_sequences(seq, maxlen=maxlen)*)\n",
      "- Get the sigmoid output and print it (Hint: use *function get_activations(model, id_layer, X_batch)* on each subsequence)\n",
      "- Create a function *get_predictions* and print the conditional probability of positive prediction given the subsequence\n",
      "- Create a plot with that shows the evolution of predictions (a time series) during the time"
     ]
    },
    {
     "cell_type": "code",
     "collapsed": true,
     "input": [
      "from keras.preprocessing import sequence\n",
      "\n",
      "# Get predictions of each time for a review sample\n",
      "def get_predictions(model, review_sample):\n",
      "     ### CELL TO COMPLETE (~ 7-15 lines)\n",
      "                       \n",
      "get_predictions(model, random_review_sample)\n",
      "print('Real label {}'.format(y_test[id_random_review]))"
     ],
     "language": "python",
     "metadata": {},
     "outputs": [],
     "prompt_number": null
    },
    {
     "cell_type": "markdown",
     "metadata": {},
     "source": [
      "### 3.3 ) Create your own movie review and test it with predictions of your trained model\n",
      "\n",
      "Question 3.3)\n",
      "\n",
      "- Generate your own review\n",
      "- Lowercase all words o the sentence (Hint: *.lower()*)\n",
      "- Use a tokenizer or a simple split for separate words (Hint: *.split(' ')*)\n",
      "- Excludes words that are not in vocabulary\n",
      "- Replace words by indexes\n",
      "- Get the prediction result for each word of your review (Hint: use the function *get_predictions* created in the last exercice)"
     ]
    },
    {
     "cell_type": "code",
     "collapsed": true,
     "input": [
      "# You can modify this text review as you want\n",
      "#text_review = 'Quite simply, the finest gangster film ever made. No doubt about it, this a spectacular viewing experience'"
     ],
     "language": "python",
     "metadata": {},
     "outputs": [],
     "prompt_number": null
    },
    {
     "cell_type": "code",
     "collapsed": true,
     "input": [
      "### CELL TO COMPLETE (~ 8 lines)"
     ],
     "language": "python",
     "metadata": {},
     "outputs": [],
     "prompt_number": null
    },
    {
     "cell_type": "heading",
     "level": 2,
     "metadata": {},
     "source": [
      "Part 4) Transfer learning of pre-trained FastText word embeddings to improve results"
     ]
    },
    {
     "cell_type": "markdown",
     "metadata": {},
     "source": [
      "Question 4.1) What are pre-trained word embeddings? How they are learned (unsupervised or supervised way)?\n",
      "\n",
      "Question 4.2)\n",
      "\n",
      "- Download text pre-trained FastText (Facebook research) word embeddings \n",
      "\n",
      "[English vectors](https://fasttext.cc/docs/en/english-vectors.html) \n",
      "[FastText project](https://research.fb.com/fasttext/)\n",
      "[Pre-trained vectors](https://github.com/facebookresearch/fastText/blob/master/pretrained-vectors.md)\n",
      "\n",
      "- Read and load the text file and extract the dense vector from each word\n",
      "- Saves only words-vectors of IMDB vocabulary\n",
      "- Create a random normal matrix with dimensions *max_words* and *embedding_dims* \n",
      "- Associate extracted vectors using IMDB word indexes\n",
      "- Copy extracted vectors in the indexes of the created matrix\n",
      "- Create the LSTM model with  *Embedding* layer and regularization\n",
      "- Initialize the weights of *Embedding* layer with created matrix values\n",
      "- Compare t-SNE results"
     ]
    },
    {
     "cell_type": "code",
     "collapsed": true,
     "input": [
      "### CELL TO COMPLETE (~ 34 lines)"
     ],
     "language": "python",
     "metadata": {},
     "outputs": [],
     "prompt_number": null
    }
   ],
   "metadata": {}
  }
 ]
}