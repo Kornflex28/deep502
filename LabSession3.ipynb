{
 "metadata": {
  "kernelspec": {
   "display_name": "Python 3",
   "language": "python",
   "name": "python3"
  },
  "language_info": {
   "codemirror_mode": {
    "name": "ipython",
    "version": 3
   },
   "file_extension": ".py",
   "mimetype": "text/x-python",
   "name": "python",
   "nbconvert_exporter": "python",
   "pygments_lexer": "ipython3",
   "version": "3.5.5"
  },
  "name": "",
  "signature": "sha256:c2681647c6a3c2a693e3b854937acc6596bfd52b4deb05ffe33fb767dfdc637a"
 },
 "nbformat": 3,
 "nbformat_minor": 0,
 "worksheets": [
  {
   "cells": [
    {
     "cell_type": "heading",
     "level": 1,
     "metadata": {},
     "source": [
      "Lab Session 3: Multiple Layer Perceptron"
     ]
    },
    {
     "cell_type": "markdown",
     "metadata": {},
     "source": [
      "## Objective of this lab session: use a multiple layer perceptron to process MNIST dataset.\n",
      "\n",
      "\n",
      "MNIST is a simple computer vision dataset. It consists of images of handwritten digits. It also includes labels for each image, telling us which digit it is. In this lab session, we're going to train a model to look at images and predict what digits they are."
     ]
    },
    {
     "cell_type": "markdown",
     "metadata": {},
     "source": [
      "First, start here with these lines of code which will download and read in the data automatically:"
     ]
    },
    {
     "cell_type": "code",
     "collapsed": false,
     "input": [
      "# Import libraries\n",
      "%matplotlib inline\n",
      "%pylab inline\n",
      "pylab.rcParams['figure.figsize']=(16.0,9.0)\n",
      "\n",
      "import keras\n",
      "from keras.datasets import mnist\n",
      "\n",
      "(x_train, y_train), (x_test, y_test) = mnist.load_data()"
     ],
     "language": "python",
     "metadata": {},
     "outputs": [
      {
       "output_type": "stream",
       "stream": "stdout",
       "text": [
        "Populating the interactive namespace from numpy and matplotlib\n"
       ]
      },
      {
       "output_type": "stream",
       "stream": "stderr",
       "text": [
        "Using TensorFlow backend.\n"
       ]
      }
     ],
     "prompt_number": 1
    },
    {
     "cell_type": "markdown",
     "metadata": {},
     "source": [
      "The MNIST data is split into two parts: 60,000 data points of training data, 10,000 points of test data. It's essential in machine learning that we have separate data which we don't learn from so that we can make sure that what we've learned actually generalizes!\n",
      "\n",
      "Every MNIST data point has two parts: an image of a handwritten digit and a corresponding label. \"x\" corresponds to images and \"y\" to labels. Both the training set and test set contain images and their corresponding labels.\n",
      "\n",
      "First, we will visualize some of the data:"
     ]
    },
    {
     "cell_type": "code",
     "collapsed": false,
     "input": [
      "import matplotlib.pyplot as plt\n",
      "import numpy as np\n",
      "\n",
      "plt.figure()\n",
      "for i in range(10):\n",
      "  plt.subplot(2, 5, i + 1)\n",
      "  plt.axis('off')\n",
      "  index = np.where(y_train == i)[0][0]\n",
      "  plt.imshow(x_train[index,:,:], cmap=plt.cm.gray_r, interpolation='nearest')\n",
      "  plt.title('Training: %i' % y_train[index])\n",
      "plt.show()"
     ],
     "language": "python",
     "metadata": {},
     "outputs": [
      {
       "metadata": {},
       "output_type": "display_data",
       "png": "[encoded data removed]",
       "text": [
        "<Figure size 1600x900 with 10 Axes>"
       ]
      }
     ],
     "prompt_number": 19
    },
    {
     "cell_type": "markdown",
     "metadata": {},
     "source": [
      "Each image is 28 pixels by 28 pixels. In this lab session, we flatten this array into a vector of 28x28 = 784 numbers.\n",
      "\n",
      "#### 1) Write the code to flatten the data:"
     ]
    },
    {
     "cell_type": "code",
     "collapsed": false,
     "input": [
      "x_train = x_train.reshape(60000,784)\n",
      "x_test = x_test.reshape(10000,784)"
     ],
     "language": "python",
     "metadata": {},
     "outputs": [],
     "prompt_number": 20
    },
    {
     "cell_type": "heading",
     "level": 4,
     "metadata": {},
     "source": [
      "2) Write the code to normalize pixel intensity between 0 and 1 of images:"
     ]
    },
    {
     "cell_type": "code",
     "collapsed": false,
     "input": [
      "x_train = x_train.astype(float)/255\n",
      "x_test = x_test.astype(float)/255\n",
      "\n",
      "print(x_test)\n"
     ],
     "language": "python",
     "metadata": {},
     "outputs": [
      {
       "output_type": "stream",
       "stream": "stdout",
       "text": [
        "[[ 0.  0.  0. ...,  0.  0.  0.]\n",
        " [ 0.  0.  0. ...,  0.  0.  0.]\n",
        " [ 0.  0.  0. ...,  0.  0.  0.]\n",
        " ..., \n",
        " [ 0.  0.  0. ...,  0.  0.  0.]\n",
        " [ 0.  0.  0. ...,  0.  0.  0.]\n",
        " [ 0.  0.  0. ...,  0.  0.  0.]]\n"
       ]
      }
     ],
     "prompt_number": 21
    },
    {
     "cell_type": "markdown",
     "metadata": {},
     "source": [
      "Each image in MNIST has a corresponding label, a number between 0 and 9 representing the digit drawn in the image.\n",
      "\n",
      "In this lab session, we're going to want our labels as \"one-hot vectors\". A one-hot vector is a vector which is 0 in most dimensions, and 1 in a single dimension. In this case, the $n^{th}$ digit will be represented as a vector which is 1 in the $n^{th}$ dimension. For example, 3 would be $[0,0,0,1,0,0,0,0,0,0]$. \n",
      "\n",
      "#### 3) Convert the labels to one-hot vectors (using the function \"to_categorical\" available in Keras):"
     ]
    },
    {
     "cell_type": "code",
     "collapsed": false,
     "input": [
      "from keras.utils import to_categorical\n",
      "num_classes = 10\n",
      "z_train = to_categorical(y_train)\n",
      "z_test = to_categorical(y_test)"
     ],
     "language": "python",
     "metadata": {},
     "outputs": [],
     "prompt_number": 22
    },
    {
     "cell_type": "markdown",
     "metadata": {},
     "source": [
      "### Softmax Regression\n",
      "\n",
      "Every image in MNIST is of a handwritten digit between zero and nine. So there are only ten possible things that a given image can be. For a given image, we want to compute the probabilities for it being each digit. In this part, we will use a softmax regression model:\n",
      "\n",
      "$$ y = softmax(Wx+b)$$\n",
      "\n",
      "where $softmax$ is the normalized exponential function."
     ]
    },
    {
     "cell_type": "heading",
     "level": 4,
     "metadata": {},
     "source": [
      "4)  Define a Keras network architecture for softmax regression using Sequential API (https://keras.io/models/sequential/). Use a Dense layer to define the softmax regression (https://keras.io/layers/core/#dense)."
     ]
    },
    {
     "cell_type": "code",
     "collapsed": false,
     "input": [
      "from keras.models import Sequential\n",
      "from keras.layers import Dense\n",
      "\n",
      "# y = softmax (Wx+b)\n",
      "model = Sequential()\n",
      "\n",
      "model.add(Dense(10, input_shape=(784,), activation=\"softmax\"))\n",
      "\n",
      "\n",
      "\n",
      "\n",
      "model.summary()"
     ],
     "language": "python",
     "metadata": {},
     "outputs": [
      {
       "output_type": "stream",
       "stream": "stdout",
       "text": [
        "_________________________________________________________________\n",
        "Layer (type)                 Output Shape              Param #   \n",
        "=================================================================\n",
        "dense_2 (Dense)              (None, 10)                7850      \n",
        "=================================================================\n",
        "Total params: 7,850\n",
        "Trainable params: 7,850\n",
        "Non-trainable params: 0\n",
        "_________________________________________________________________\n"
       ]
      }
     ],
     "prompt_number": 23
    },
    {
     "cell_type": "heading",
     "level": 4,
     "metadata": {},
     "source": [
      "5) How many trainable parameters are there?"
     ]
    },
    {
     "cell_type": "markdown",
     "metadata": {},
     "source": [
      "We now have to define the loss function. We try to minimize that error, and the smaller the error margin, the better our model is. In this lab session, \"cross-entropy\" is used as the loss of the model. It's defined as:\n",
      "\n",
      "$$H_{y}(z) = - \\sum_i y_i \\log(z_i)$$\n",
      "\n",
      "where $z$ is our predicted probability distribution, and $y$ is the true distribution (the one-hot vector with the digit labels). \n",
      "\n",
      "Now we need to specify the optimization algorithm that will be used to minimized the loss function. Here, we will use RMSprop. We will also specify a metric (here 'accuracy') to follow the convergence of the training step.\n",
      "\n",
      "#### 6) Specify in the Keras model the loss function, the optimization algorithm and the metric (see https://keras.io/models/sequential/#compile):  "
     ]
    },
    {
     "cell_type": "code",
     "collapsed": false,
     "input": [
      "from keras.optimizers import RMSprop\n",
      "\n",
      "optimizer = RMSprop()\n",
      "model.compile(optimizer, 'categorical_crossentropy', metrics=['accuracy'])\n"
     ],
     "language": "python",
     "metadata": {},
     "outputs": [],
     "prompt_number": 24
    },
    {
     "cell_type": "heading",
     "level": 4,
     "metadata": {},
     "source": [
      "7) Write the code to train the model:"
     ]
    },
    {
     "cell_type": "code",
     "collapsed": false,
     "input": [
      "batch_size = 128\n",
      "epochs = 20\n",
      "\n",
      "# Fit the model\n",
      "print(x_train.shape)\n",
      "history = model.fit(x_train, z_train, validation_split=0.2, epochs=epochs, verbose=2)"
     ],
     "language": "python",
     "metadata": {},
     "outputs": [
      {
       "output_type": "stream",
       "stream": "stdout",
       "text": [
        "(60000, 784)\n",
        "Train on 48000 samples, validate on 12000 samples"
       ]
      },
      {
       "output_type": "stream",
       "stream": "stdout",
       "text": [
        "\n",
        "Epoch 1/20\n",
        " - 3s - loss: 0.4769 - acc: 0.8727 - val_loss: 0.3030 - val_acc: 0.9157\n"
       ]
      },
      {
       "output_type": "stream",
       "stream": "stdout",
       "text": [
        "Epoch 2/20\n",
        " - 3s - loss: 0.3133 - acc: 0.9115 - val_loss: 0.2847 - val_acc: 0.9223\n"
       ]
      },
      {
       "output_type": "stream",
       "stream": "stdout",
       "text": [
        "Epoch 3/20\n",
        " - 3s - loss: 0.2962 - acc: 0.9176 - val_loss: 0.2772 - val_acc: 0.9257\n"
       ]
      },
      {
       "output_type": "stream",
       "stream": "stdout",
       "text": [
        "Epoch 4/20\n",
        " - 3s - loss: 0.2889 - acc: 0.9213 - val_loss: 0.2749 - val_acc: 0.9258\n"
       ]
      },
      {
       "output_type": "stream",
       "stream": "stdout",
       "text": [
        "Epoch 5/20\n",
        " - 3s - loss: 0.2847 - acc: 0.9231 - val_loss: 0.2764 - val_acc: 0.9279\n"
       ]
      },
      {
       "output_type": "stream",
       "stream": "stdout",
       "text": [
        "Epoch 6/20\n",
        " - 3s - loss: 0.2832 - acc: 0.9240 - val_loss: 0.2756 - val_acc: 0.9275\n"
       ]
      },
      {
       "output_type": "stream",
       "stream": "stdout",
       "text": [
        "Epoch 7/20\n",
        " - 3s - loss: 0.2812 - acc: 0.9258 - val_loss: 0.2764 - val_acc: 0.9282\n"
       ]
      },
      {
       "output_type": "stream",
       "stream": "stdout",
       "text": [
        "Epoch 8/20\n",
        " - 3s - loss: 0.2806 - acc: 0.9253 - val_loss: 0.2764 - val_acc: 0.9301\n"
       ]
      },
      {
       "output_type": "stream",
       "stream": "stdout",
       "text": [
        "Epoch 9/20\n",
        " - 3s - loss: 0.2802 - acc: 0.9266 - val_loss: 0.2786 - val_acc: 0.9293\n"
       ]
      },
      {
       "output_type": "stream",
       "stream": "stdout",
       "text": [
        "Epoch 10/20\n",
        " - 3s - loss: 0.2795 - acc: 0.9272 - val_loss: 0.2800 - val_acc: 0.9293\n"
       ]
      },
      {
       "output_type": "stream",
       "stream": "stdout",
       "text": [
        "Epoch 11/20\n",
        " - 3s - loss: 0.2790 - acc: 0.9281 - val_loss: 0.2809 - val_acc: 0.9295\n"
       ]
      },
      {
       "output_type": "stream",
       "stream": "stdout",
       "text": [
        "Epoch 12/20\n",
        " - 3s - loss: 0.2787 - acc: 0.9288 - val_loss: 0.2810 - val_acc: 0.9298\n"
       ]
      },
      {
       "output_type": "stream",
       "stream": "stdout",
       "text": [
        "Epoch 13/20\n",
        " - 3s - loss: 0.2789 - acc: 0.9290 - val_loss: 0.2827 - val_acc: 0.9299\n"
       ]
      },
      {
       "output_type": "stream",
       "stream": "stdout",
       "text": [
        "Epoch 14/20\n",
        " - 3s - loss: 0.2786 - acc: 0.9285 - val_loss: 0.2856 - val_acc: 0.9300\n"
       ]
      },
      {
       "output_type": "stream",
       "stream": "stdout",
       "text": [
        "Epoch 15/20\n",
        " - 3s - loss: 0.2790 - acc: 0.9291 - val_loss: 0.2850 - val_acc: 0.9316\n"
       ]
      },
      {
       "output_type": "stream",
       "stream": "stdout",
       "text": [
        "Epoch 16/20\n",
        " - 3s - loss: 0.2793 - acc: 0.9300 - val_loss: 0.2862 - val_acc: 0.9297\n"
       ]
      },
      {
       "output_type": "stream",
       "stream": "stdout",
       "text": [
        "Epoch 17/20\n",
        " - 3s - loss: 0.2795 - acc: 0.9296 - val_loss: 0.2884 - val_acc: 0.9305\n"
       ]
      },
      {
       "output_type": "stream",
       "stream": "stdout",
       "text": [
        "Epoch 18/20\n",
        " - 3s - loss: 0.2791 - acc: 0.9300 - val_loss: 0.2884 - val_acc: 0.9314\n"
       ]
      },
      {
       "output_type": "stream",
       "stream": "stdout",
       "text": [
        "Epoch 19/20\n",
        " - 3s - loss: 0.2797 - acc: 0.9301 - val_loss: 0.2931 - val_acc: 0.9299\n"
       ]
      },
      {
       "output_type": "stream",
       "stream": "stdout",
       "text": [
        "Epoch 20/20\n",
        " - 3s - loss: 0.2794 - acc: 0.9302 - val_loss: 0.2891 - val_acc: 0.9326\n"
       ]
      }
     ],
     "prompt_number": 25
    },
    {
     "cell_type": "markdown",
     "metadata": {},
     "source": [
      "To study the convergence of the training step, we will plot the evolution of the accuracy for both training and testing data with respect to the epochs. The code to do this is provided below.\n",
      "\n",
      "#### 8) Study the convergence figure and the evaluation score."
     ]
    },
    {
     "cell_type": "code",
     "collapsed": false,
     "input": [
      "# list all data in history\n",
      "print(history.history.keys())\n",
      "\n",
      "#Visualize history (loss vs epochs)\n",
      "plt.figure()\n",
      "plt.plot(history.history['acc'])\n",
      "plt.plot(history.history['val_acc'])\n",
      "plt.title('model acc')\n",
      "plt.ylabel('acc')  \n",
      "plt.xlabel('epochs')\n",
      "plt.legend(['train','val'], loc='upper left')\n",
      "plt.show()\n",
      "\n",
      "score = model.evaluate(x_test, z_test, verbose=0)\n",
      "print('Test loss:', score[0])\n",
      "print('Test accuracy:', score[1])\n"
     ],
     "language": "python",
     "metadata": {},
     "outputs": [
      {
       "output_type": "stream",
       "stream": "stdout",
       "text": [
        "['acc', 'loss', 'val_acc', 'val_loss']\n"
       ]
      },
      {
       "metadata": {},
       "output_type": "display_data",
       "png": "[encoded data removed]",
       "text": [
        "<Figure size 1600x900 with 1 Axes>"
       ]
      },
      {
       "output_type": "stream",
       "stream": "stdout",
       "text": [
        "('Test loss:', 0.30951994070857763)\n",
        "('Test accuracy:', 0.92700000000000005)\n"
       ]
      }
     ],
     "prompt_number": 26
    },
    {
     "cell_type": "markdown",
     "metadata": {},
     "source": [
      "Is that good? Compare your results with the score of the current best models: https://rodrigob.github.io/are_we_there_yet/build/classification_datasets_results"
     ]
    },
    {
     "cell_type": "heading",
     "level": 4,
     "metadata": {},
     "source": [
      "9) Write code to visualize the incorrect predictions:"
     ]
    },
    {
     "cell_type": "code",
     "collapsed": false,
     "input": [],
     "language": "python",
     "metadata": {},
     "outputs": [],
     "prompt_number": null
    },
    {
     "cell_type": "heading",
     "level": 4,
     "metadata": {},
     "source": [
      "10) Study the confusion matrix:"
     ]
    },
    {
     "cell_type": "code",
     "collapsed": false,
     "input": [
      "from sklearn.metrics import confusion_matrix\n",
      "import itertools\n",
      "\n",
      "print(x_test.shape)\n",
      "\n",
      "y_pred = model.predict(x_test)\n",
      "y_pred=  np.argmax(y_pred, axis=1)\n",
      "print(y_pred)\n",
      "\n",
      "\n",
      "class_names= ['0','1','2','3','4','5','6','7','8','9']\n",
      "\n",
      "def plot_confusion_matrix(cm, classes,\n",
      "                          normalize=False,\n",
      "                          title='Confusion matrix',\n",
      "                          cmap=plt.cm.Blues):\n",
      "    \"\"\"\n",
      "    This function prints and plots the confusion matrix.\n",
      "    Normalization can be applied by setting `normalize=True`.\n",
      "    \"\"\"\n",
      "    if normalize:\n",
      "        cm = cm.astype('float') / cm.sum(axis=1)[:, np.newaxis]\n",
      "        print(\"Normalized confusion matrix\")\n",
      "    else:\n",
      "        print('Confusion matrix, without normalization')\n",
      "\n",
      "    #print(cm)\n",
      "\n",
      "    plt.imshow(cm, interpolation='nearest', cmap=cmap)\n",
      "    plt.title(title)\n",
      "    plt.colorbar()\n",
      "    tick_marks = np.arange(len(classes))\n",
      "    plt.xticks(tick_marks, classes, rotation=45)\n",
      "    plt.yticks(tick_marks, classes)\n",
      "\n",
      "    fmt = '.2f' if normalize else 'd'\n",
      "    thresh = cm.max() / 2.\n",
      "    for i, j in itertools.product(range(cm.shape[0]), range(cm.shape[1])):\n",
      "        plt.text(j, i, format(cm[i, j], fmt),\n",
      "                 horizontalalignment=\"center\",\n",
      "                 color=\"white\" if cm[i, j] > thresh else \"black\")\n",
      "\n",
      "    plt.tight_layout()\n",
      "    plt.ylabel('True label')\n",
      "    plt.xlabel('Predicted label')\n",
      "\n",
      "# Compute confusion matrix\n",
      "print(y_test)\n",
      "cnf_matrix = confusion_matrix(y_test, y_pred)\n",
      "np.set_printoptions(precision=2)\n",
      "\n",
      "# Plot normalized confusion matrix\n",
      "plt.figure()\n",
      "plot_confusion_matrix(cnf_matrix, classes=class_names, normalize=True,\n",
      "                      title='Normalized confusion matrix')\n",
      "\n",
      "plt.show()"
     ],
     "language": "python",
     "metadata": {},
     "outputs": [
      {
       "output_type": "stream",
       "stream": "stdout",
       "text": [
        "(10000, 784)\n",
        "[7 2 1 ..., 4 5 6]"
       ]
      },
      {
       "output_type": "stream",
       "stream": "stdout",
       "text": [
        "\n",
        "[7 2 1 ..., 4 5 6]\n",
        "Normalized confusion matrix\n"
       ]
      },
      {
       "metadata": {},
       "output_type": "display_data",
       "png": "[encoded data removed]",
       "text": [
        "<Figure size 1600x900 with 2 Axes>"
       ]
      }
     ],
     "prompt_number": 31
    },
    {
     "cell_type": "markdown",
     "metadata": {},
     "source": [
      "### Multiple layer network\n",
      "\n",
      "#### 9) Build a multiple layer dense network to reach 98% of accuracy (at least!)."
     ]
    },
    {
     "cell_type": "code",
     "collapsed": false,
     "input": [
      "model_multiLayers = Sequential()\n",
      "\n",
      "model_multiLayers.add(Dense(10, input_shape=(784,), activation=\"relu\"))\n",
      "model_multiLayers.add(Dense(10, input_shape=(10,), activation=\"relu\"))\n",
      "model_multiLayers.add(Dense(10, input_shape=(10,), activation=\"sigmoid\"))\n",
      "\n",
      "model_multiLayers.summary()\n",
      "\n",
      "optimizer = RMSprop()\n",
      "model_multiLayers.compile(optimizer, 'categorical_crossentropy', metrics=['accuracy'])\n",
      "\n",
      "batch_size = 128\n",
      "epochs = 20\n",
      "\n",
      "# Fit the model\n",
      "history = model_multiLayers.fit(x_train, z_train, validation_split=0.2, epochs=epochs, verbose=2)\n",
      "\n",
      "\n"
     ],
     "language": "python",
     "metadata": {},
     "outputs": [
      {
       "output_type": "stream",
       "stream": "stdout",
       "text": [
        "_________________________________________________________________\n",
        "Layer (type)                 Output Shape              Param #   \n",
        "=================================================================\n",
        "dense_15 (Dense)             (None, 10)                7850      \n",
        "_________________________________________________________________\n",
        "dense_16 (Dense)             (None, 10)                110       \n",
        "_________________________________________________________________\n",
        "dense_17 (Dense)             (None, 10)                110       \n",
        "=================================================================\n",
        "Total params: 8,070\n",
        "Trainable params: 8,070\n",
        "Non-trainable params: 0\n",
        "_________________________________________________________________\n",
        "Train on 48000 samples, validate on 12000 samples"
       ]
      },
      {
       "output_type": "stream",
       "stream": "stdout",
       "text": [
        "\n",
        "Epoch 1/20\n",
        " - 4s - loss: 0.7420 - acc: 0.7896 - val_loss: 0.3743 - val_acc: 0.8892\n"
       ]
      },
      {
       "output_type": "stream",
       "stream": "stdout",
       "text": [
        "Epoch 2/20\n",
        " - 4s - loss: 0.3550 - acc: 0.8983 - val_loss: 0.3077 - val_acc: 0.9110\n"
       ]
      },
      {
       "output_type": "stream",
       "stream": "stdout",
       "text": [
        "Epoch 3/20\n",
        " - 4s - loss: 0.3193 - acc: 0.9099 - val_loss: 0.2889 - val_acc: 0.9172\n"
       ]
      },
      {
       "output_type": "stream",
       "stream": "stdout",
       "text": [
        "Epoch 4/20\n",
        " - 4s - loss: 0.3006 - acc: 0.9163 - val_loss: 0.2919 - val_acc: 0.9199\n"
       ]
      },
      {
       "output_type": "stream",
       "stream": "stdout",
       "text": [
        "Epoch 5/20\n",
        " - 4s - loss: 0.2885 - acc: 0.9184 - val_loss: 0.2733 - val_acc: 0.9230\n"
       ]
      },
      {
       "output_type": "stream",
       "stream": "stdout",
       "text": [
        "Epoch 6/20\n",
        " - 4s - loss: 0.2804 - acc: 0.9210 - val_loss: 0.2768 - val_acc: 0.9215\n"
       ]
      },
      {
       "output_type": "stream",
       "stream": "stdout",
       "text": [
        "Epoch 7/20\n",
        " - 4s - loss: 0.2721 - acc: 0.9225 - val_loss: 0.2682 - val_acc: 0.9230\n"
       ]
      },
      {
       "output_type": "stream",
       "stream": "stdout",
       "text": [
        "Epoch 8/20\n",
        " - 4s - loss: 0.2657 - acc: 0.9247 - val_loss: 0.2733 - val_acc: 0.9235\n"
       ]
      },
      {
       "output_type": "stream",
       "stream": "stdout",
       "text": [
        "Epoch 9/20\n",
        " - 4s - loss: 0.2600 - acc: 0.9258 - val_loss: 0.2762 - val_acc: 0.9222\n"
       ]
      },
      {
       "output_type": "stream",
       "stream": "stdout",
       "text": [
        "Epoch 10/20\n",
        " - 4s - loss: 0.2548 - acc: 0.9276 - val_loss: 0.2615 - val_acc: 0.9272\n"
       ]
      },
      {
       "output_type": "stream",
       "stream": "stdout",
       "text": [
        "Epoch 11/20\n",
        " - 4s - loss: 0.2507 - acc: 0.9290 - val_loss: 0.2624 - val_acc: 0.9280\n"
       ]
      },
      {
       "output_type": "stream",
       "stream": "stdout",
       "text": [
        "Epoch 12/20\n",
        " - 4s - loss: 0.2467 - acc: 0.9300 - val_loss: 0.2557 - val_acc: 0.9279\n"
       ]
      },
      {
       "output_type": "stream",
       "stream": "stdout",
       "text": [
        "Epoch 13/20\n",
        " - 4s - loss: 0.2435 - acc: 0.9310 - val_loss: 0.2736 - val_acc: 0.9227\n"
       ]
      },
      {
       "output_type": "stream",
       "stream": "stdout",
       "text": [
        "Epoch 14/20\n",
        " - 4s - loss: 0.2414 - acc: 0.9312 - val_loss: 0.2598 - val_acc: 0.9253\n"
       ]
      },
      {
       "output_type": "stream",
       "stream": "stdout",
       "text": [
        "Epoch 15/20\n",
        " - 4s - loss: 0.2371 - acc: 0.9325 - val_loss: 0.2562 - val_acc: 0.9282\n"
       ]
      },
      {
       "output_type": "stream",
       "stream": "stdout",
       "text": [
        "Epoch 16/20\n",
        " - 4s - loss: 0.2338 - acc: 0.9326 - val_loss: 0.2520 - val_acc: 0.9307\n"
       ]
      },
      {
       "output_type": "stream",
       "stream": "stdout",
       "text": [
        "Epoch 17/20\n",
        " - 4s - loss: 0.2326 - acc: 0.9335 - val_loss: 0.2505 - val_acc: 0.9287\n"
       ]
      },
      {
       "output_type": "stream",
       "stream": "stdout",
       "text": [
        "Epoch 18/20\n",
        " - 4s - loss: 0.2291 - acc: 0.9337 - val_loss: 0.2424 - val_acc: 0.9332\n"
       ]
      },
      {
       "output_type": "stream",
       "stream": "stdout",
       "text": [
        "Epoch 19/20\n",
        " - 4s - loss: 0.2259 - acc: 0.9354 - val_loss: 0.2568 - val_acc: 0.9270\n"
       ]
      },
      {
       "output_type": "stream",
       "stream": "stdout",
       "text": [
        "Epoch 20/20\n",
        " - 4s - loss: 0.2240 - acc: 0.9363 - val_loss: 0.2450 - val_acc: 0.9304\n"
       ]
      }
     ],
     "prompt_number": 38
    },
    {
     "cell_type": "code",
     "collapsed": false,
     "input": [
      "# list all data in history\n",
      "print(history.history.keys())\n",
      "\n",
      "#Visualize history (loss vs epochs)\n",
      "plt.figure()\n",
      "plt.plot(history.history['acc'])\n",
      "plt.plot(history.history['val_acc'])\n",
      "plt.title('model acc')\n",
      "plt.ylabel('acc')  \n",
      "plt.xlabel('epochs')\n",
      "plt.legend(['train','val'], loc='upper left')\n",
      "plt.show()\n",
      "\n",
      "score = model_multiLayers.evaluate(x_test, z_test, verbose=0)\n",
      "print('Test loss:', score[0])\n",
      "print('Test accuracy:', score[1])"
     ],
     "language": "python",
     "metadata": {},
     "outputs": [
      {
       "output_type": "stream",
       "stream": "stdout",
       "text": [
        "['acc', 'loss', 'val_acc', 'val_loss']\n"
       ]
      },
      {
       "metadata": {},
       "output_type": "display_data",
       "png": "[encoded data removed]",
       "text": [
        "<Figure size 1600x900 with 1 Axes>"
       ]
      },
      {
       "output_type": "stream",
       "stream": "stdout",
       "text": [
        "('Test loss:', 0.24257003813087941)\n",
        "('Test accuracy:', 0.93169999999999997)\n"
       ]
      }
     ],
     "prompt_number": 39
    }
   ],
   "metadata": {}
  }
 ]
}