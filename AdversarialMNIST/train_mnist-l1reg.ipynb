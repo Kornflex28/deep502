{
 "metadata": {
  "kernelspec": {
   "display_name": "Python 2",
   "language": "python",
   "name": "python2"
  },
  "language_info": {
   "codemirror_mode": {
    "name": "ipython",
    "version": 2
   },
   "file_extension": ".py",
   "mimetype": "text/x-python",
   "name": "python",
   "nbconvert_exporter": "python",
   "pygments_lexer": "ipython2",
   "version": "2.7.10"
  },
  "name": "",
  "signature": "sha256:567cd36fc88eb42e6f379bd47287d9b442d78bcc86e7cf796a8c368fb940b355"
 },
 "nbformat": 3,
 "nbformat_minor": 0,
 "worksheets": [
  {
   "cells": [
    {
     "cell_type": "code",
     "collapsed": false,
     "input": [
      "##This notebook trains the same CNN model, but with l1 regularization to encourage smaller and sparser weights\n",
      "##We use 10^-3 learning rate instead of 10^-4, we also let the model run longer. After 50000 batches of size 50 \n",
      "##(~41 epochs) the l1 norm of the weights was 28000, compared to 230000 for the baseline model\n",
      "\n",
      "import mnist_input\n",
      "import mnist_model\n",
      "reload(mnist_model)\n",
      "import numpy as np\n",
      "import tensorflow as tf\n",
      "mnist = mnist_input.read_data_sets('MNIST_data', one_hot=True)"
     ],
     "language": "python",
     "metadata": {},
     "outputs": [
      {
       "output_type": "stream",
       "stream": "stdout",
       "text": [
        "Extracting MNIST_data/train-images-idx3-ubyte.gz\n",
        "Extracting"
       ]
      },
      {
       "output_type": "stream",
       "stream": "stdout",
       "text": [
        " MNIST_data/train-labels-idx1-ubyte.gz\n",
        "Extracting MNIST_data/t10k-images-idx3-ubyte.gz\n",
        "Extracting MNIST_data/t10k-labels-idx1-ubyte.gz\n"
       ]
      }
     ],
     "prompt_number": 2
    },
    {
     "cell_type": "code",
     "collapsed": false,
     "input": [
      "checkpoint_path = \"./saved_models/l1reg.ckpt\"\n",
      "x, y_ = mnist_model.place_holders()\n",
      "y_conv, keep_prob, variable_dict = mnist_model.model(x)"
     ],
     "language": "python",
     "metadata": {},
     "outputs": [],
     "prompt_number": 3
    },
    {
     "cell_type": "code",
     "collapsed": false,
     "input": [
      "#define the l1-loss\n",
      "absolute_sums = []\n",
      "for variable in variable_dict.values():\n",
      "    absolute_sums.append(tf.reduce_sum(tf.abs(variable)))\n",
      "l1_sum = tf.add_n(absolute_sums)\n",
      "\n",
      "#count the number where are > 0, surprisingly \n",
      "variable_non_zero_counts = []\n",
      "for variable in variable_dict.values():\n",
      "    variable_non_zero_counts.append(tf.reduce_sum(tf.cast(tf.greater(tf.abs(variable), tf.constant(0.000001)), \"float\")))\n",
      "num_non_zero_op = tf.add_n(variable_non_zero_counts)"
     ],
     "language": "python",
     "metadata": {},
     "outputs": [],
     "prompt_number": 4
    },
    {
     "cell_type": "code",
     "collapsed": false,
     "input": [
      "#experiments without l1 regularization showed cross entropy in the range of [1,10] and\n",
      "#l1_sum around 236000\n",
      "C = 1.0/20000.0 #define the regularization constant, this way\n",
      "cross_entropy = -tf.reduce_sum(y_*tf.log(tf.clip_by_value(y_conv,1e-10,1.0))) #avoid 0*log(0) error\n",
      "l1_loss = cross_entropy + C*l1_sum\n",
      "\n",
      "train_step = tf.train.AdamOptimizer(1e-3).minimize(l1_loss)\n",
      "correct_prediction = tf.equal(tf.argmax(y_conv,1), tf.argmax(y_,1))\n",
      "accuracy = tf.reduce_mean(tf.cast(correct_prediction, \"float\"))\n",
      "saver = tf.train.Saver(variable_dict)\n",
      "sess = tf.InteractiveSession()\n",
      "sess.run(tf.initialize_all_variables())\n",
      "#saver.restore(sess, checkpoint_path)"
     ],
     "language": "python",
     "metadata": {},
     "outputs": [
      {
       "output_type": "stream",
       "stream": "stdout",
       "text": [
        "WARNING:tensorflow:From /opt/campux/virtualenv/deeplearning/lib/python2.7/site-packages/tensorflow/python/util/tf_should_use.py:107: initialize_all_variables (from tensorflow.python.ops.variables) is deprecated and will be removed after 2017-03-02.\n",
        "Instructions for updating:\n",
        "Use `tf.global_variables_initializer` instead.\n"
       ]
      },
      {
       "output_type": "stream",
       "stream": "stderr",
       "text": [
        "WARNING:tensorflow:From /opt/campux/virtualenv/deeplearning/lib/python2.7/site-packages/tensorflow/python/util/tf_should_use.py:107: initialize_all_variables (from tensorflow.python.ops.variables) is deprecated and will be removed after 2017-03-02.\n",
        "Instructions for updating:\n",
        "Use `tf.global_variables_initializer` instead.\n"
       ]
      }
     ],
     "prompt_number": 5
    },
    {
     "cell_type": "code",
     "collapsed": true,
     "input": [
      "def get_test_accuracy(prob = 1.0):\n",
      "    idx = 0\n",
      "    batch_size = 500\n",
      "    num_correct = 0\n",
      "    while(idx < len(mnist.test.images)):\n",
      "        num_correct += np.sum(correct_prediction.eval(feed_dict = {\n",
      "               x: mnist.test.images[idx:idx+batch_size], \n",
      "               y_: mnist.test.labels[idx:idx+batch_size], keep_prob: prob\n",
      "                    }))\n",
      "        idx+=batch_size\n",
      "    return float(num_correct)/float(len(mnist.test.images))"
     ],
     "language": "python",
     "metadata": {},
     "outputs": [],
     "prompt_number": 6
    },
    {
     "cell_type": "code",
     "collapsed": false,
     "input": [
      "for i in range(50000):\n",
      "  batch = mnist.train.next_batch(50)\n",
      "  if(i%1000 == 0):\n",
      "    saver.save(sess, checkpoint_path)\n",
      "    cross_ent, l1_norm, train_accuracy, loss_func, num_non_zero = sess.run(\n",
      "        [cross_entropy, l1_sum, accuracy, l1_loss, num_non_zero_op], \n",
      "                                  feed_dict={x: batch[0], y_: batch[1], keep_prob: 0.5})\n",
      "    test_accuracy = get_test_accuracy()\n",
      "    print \"step %d, cross_ent: %f, l1_norm: %f, train_acc: %f, test_acc: %f, loss: %f, num_non_zero: %d\" \\\n",
      "            %(i, cross_ent, l1_norm, train_accuracy, test_accuracy, loss_func, num_non_zero)\n",
      "\n",
      "  train_step.run(feed_dict={x: batch[0], y_: batch[1], keep_prob: 0.5})\n",
      "\n",
      "#print(\"test accuracy %g\"%accuracy.eval(feed_dict={\n",
      "#    x: mnist.test.images, y_: mnist.test.labels, keep_prob: 1.0}))\n",
      "\n"
     ],
     "language": "python",
     "metadata": {},
     "outputs": [
      {
       "output_type": "stream",
       "stream": "stdout",
       "text": [
        "step 0, cross_ent: 478.984863, l1_norm: 236669.078125, train_acc: 0.220000, test_acc: 0.185900, loss: 490.818329, num_non_zero: 3274614\n",
        "step 1000, cross_ent: 1.384519, l1_norm: 198652.437500, train_acc: 1.000000, test_acc: 0.983300, loss: 11.317141, num_non_zero: 3251033"
       ]
      },
      {
       "output_type": "stream",
       "stream": "stdout",
       "text": [
        "\n",
        "step 2000, cross_ent: 0.251090, l1_norm: 183015.437500, train_acc: 1.000000, test_acc: 0.984900, loss: 9.401862, num_non_zero: 3226350"
       ]
      },
      {
       "output_type": "stream",
       "stream": "stdout",
       "text": [
        "\n",
        "step 3000, cross_ent: 0.122243, l1_norm: 165897.078125, train_acc: 1.000000, test_acc: 0.987800, loss: 8.417098, num_non_zero: 3205501"
       ]
      },
      {
       "output_type": "stream",
       "stream": "stdout",
       "text": [
        "\n",
        "step 4000, cross_ent: 2.270667, l1_norm: 147381.906250, train_acc: 0.980000, test_acc: 0.989800, loss: 9.639763, num_non_zero: 3186069"
       ]
      },
      {
       "output_type": "stream",
       "stream": "stdout",
       "text": [
        "\n",
        "step 5000, cross_ent: 0.453371, l1_norm: 128204.117188, train_acc: 1.000000, test_acc: 0.989300, loss: 6.863576, num_non_zero: 3175358"
       ]
      },
      {
       "output_type": "stream",
       "stream": "stdout",
       "text": [
        "\n",
        "step 6000, cross_ent: 2.114840, l1_norm: 110669.632812, train_acc: 0.980000, test_acc: 0.991700, loss: 7.648321, num_non_zero: 3174373"
       ]
      },
      {
       "output_type": "stream",
       "stream": "stdout",
       "text": [
        "\n",
        "step 7000, cross_ent: 0.090974, l1_norm: 93970.976562, train_acc: 1.000000, test_acc: 0.991800, loss: 4.789523, num_non_zero: 3166938"
       ]
      },
      {
       "output_type": "stream",
       "stream": "stdout",
       "text": [
        "\n",
        "step 8000, cross_ent: 0.021979, l1_norm: 79272.695312, train_acc: 1.000000, test_acc: 0.992300, loss: 3.985614, num_non_zero: 3165947"
       ]
      },
      {
       "output_type": "stream",
       "stream": "stdout",
       "text": [
        "\n",
        "step 9000, cross_ent: 0.209492, l1_norm: 69907.468750, train_acc: 1.000000, test_acc: 0.990700, loss: 3.704865, num_non_zero: 3179673"
       ]
      },
      {
       "output_type": "stream",
       "stream": "stdout",
       "text": [
        "\n",
        "step 10000, cross_ent: 1.526504, l1_norm: 64843.839844, train_acc: 0.980000, test_acc: 0.991500, loss: 4.768696, num_non_zero: 3189069"
       ]
      },
      {
       "output_type": "stream",
       "stream": "stdout",
       "text": [
        "\n",
        "step 11000, cross_ent: 0.483827, l1_norm: 62007.984375, train_acc: 1.000000, test_acc: 0.991200, loss: 3.584227, num_non_zero: 3199819"
       ]
      },
      {
       "output_type": "stream",
       "stream": "stdout",
       "text": [
        "\n",
        "step 12000, cross_ent: 0.016914, l1_norm: 56493.285156, train_acc: 1.000000, test_acc: 0.992800, loss: 2.841578, num_non_zero: 3194915"
       ]
      },
      {
       "output_type": "stream",
       "stream": "stdout",
       "text": [
        "\n",
        "step 13000, cross_ent: 0.000375, l1_norm: 54467.210938, train_acc: 1.000000, test_acc: 0.991800, loss: 2.723736, num_non_zero: 3199934"
       ]
      },
      {
       "output_type": "stream",
       "stream": "stdout",
       "text": [
        "\n",
        "step 14000, cross_ent: 0.005589, l1_norm: 53795.406250, train_acc: 1.000000, test_acc: 0.991600, loss: 2.695359, num_non_zero: 3208258"
       ]
      },
      {
       "output_type": "stream",
       "stream": "stdout",
       "text": [
        "\n",
        "step 15000, cross_ent: 6.680555, l1_norm: 49131.132812, train_acc: 0.960000, test_acc: 0.992500, loss: 9.137112, num_non_zero: 3197256"
       ]
      },
      {
       "output_type": "stream",
       "stream": "stdout",
       "text": [
        "\n",
        "step 16000, cross_ent: 0.057598, l1_norm: 50409.449219, train_acc: 1.000000, test_acc: 0.992000, loss: 2.578070, num_non_zero: 3206297"
       ]
      },
      {
       "output_type": "stream",
       "stream": "stdout",
       "text": [
        "\n",
        "step 17000, cross_ent: 0.328231, l1_norm: 47638.371094, train_acc: 1.000000, test_acc: 0.991300, loss: 2.710149, num_non_zero: 3204496"
       ]
      },
      {
       "output_type": "stream",
       "stream": "stdout",
       "text": [
        "\n",
        "step 18000, cross_ent: 0.000780, l1_norm: 49130.078125, train_acc: 1.000000, test_acc: 0.991600, loss: 2.457283, num_non_zero: 3206895"
       ]
      },
      {
       "output_type": "stream",
       "stream": "stdout",
       "text": [
        "\n",
        "step 19000, cross_ent: 0.004322, l1_norm: 46706.699219, train_acc: 1.000000, test_acc: 0.992100, loss: 2.339657, num_non_zero: 3199712"
       ]
      },
      {
       "output_type": "stream",
       "stream": "stdout",
       "text": [
        "\n",
        "step 20000, cross_ent: 0.002819, l1_norm: 45047.453125, train_acc: 1.000000, test_acc: 0.991300, loss: 2.255191, num_non_zero: 3197070"
       ]
      },
      {
       "output_type": "stream",
       "stream": "stdout",
       "text": [
        "\n",
        "step 21000, cross_ent: 0.006604, l1_norm: 43966.242188, train_acc: 1.000000, test_acc: 0.992100, loss: 2.204916, num_non_zero: 3202136"
       ]
      },
      {
       "output_type": "stream",
       "stream": "stdout",
       "text": [
        "\n",
        "step 22000, cross_ent: 0.098143, l1_norm: 44431.613281, train_acc: 1.000000, test_acc: 0.993400, loss: 2.319724, num_non_zero: 3206362"
       ]
      },
      {
       "output_type": "stream",
       "stream": "stdout",
       "text": [
        "\n",
        "step 23000, cross_ent: 0.009056, l1_norm: 42586.011719, train_acc: 1.000000, test_acc: 0.991600, loss: 2.138356, num_non_zero: 3204046"
       ]
      },
      {
       "output_type": "stream",
       "stream": "stdout",
       "text": [
        "\n",
        "step 24000, cross_ent: 0.002844, l1_norm: 41166.242188, train_acc: 1.000000, test_acc: 0.991300, loss: 2.061156, num_non_zero: 3199161"
       ]
      },
      {
       "output_type": "stream",
       "stream": "stdout",
       "text": [
        "\n",
        "step 25000, cross_ent: 0.000723, l1_norm: 41356.937500, train_acc: 1.000000, test_acc: 0.990300, loss: 2.068570, num_non_zero: 3201520"
       ]
      },
      {
       "output_type": "stream",
       "stream": "stdout",
       "text": [
        "\n",
        "step 26000, cross_ent: 0.000644, l1_norm: 39727.070312, train_acc: 1.000000, test_acc: 0.991700, loss: 1.986997, num_non_zero: 3200114"
       ]
      },
      {
       "output_type": "stream",
       "stream": "stdout",
       "text": [
        "\n",
        "step 27000, cross_ent: 0.006811, l1_norm: 40110.199219, train_acc: 1.000000, test_acc: 0.992400, loss: 2.012321, num_non_zero: 3205097"
       ]
      },
      {
       "output_type": "stream",
       "stream": "stdout",
       "text": [
        "\n",
        "step 28000, cross_ent: 1.025995, l1_norm: 39574.363281, train_acc: 0.980000, test_acc: 0.992600, loss: 3.004713, num_non_zero: 3199766"
       ]
      },
      {
       "output_type": "stream",
       "stream": "stdout",
       "text": [
        "\n",
        "step 29000, cross_ent: 0.014463, l1_norm: 38649.925781, train_acc: 1.000000, test_acc: 0.991100, loss: 1.946959, num_non_zero: 3201825"
       ]
      },
      {
       "output_type": "stream",
       "stream": "stdout",
       "text": [
        "\n",
        "step 30000, cross_ent: 0.974532, l1_norm: 38934.035156, train_acc: 0.980000, test_acc: 0.990600, loss: 2.921234, num_non_zero: 3204212"
       ]
      },
      {
       "output_type": "stream",
       "stream": "stdout",
       "text": [
        "\n",
        "step 31000, cross_ent: 0.001118, l1_norm: 37631.996094, train_acc: 1.000000, test_acc: 0.992300, loss: 1.882718, num_non_zero: 3203374"
       ]
      },
      {
       "output_type": "stream",
       "stream": "stdout",
       "text": [
        "\n",
        "step 32000, cross_ent: 0.000808, l1_norm: 37453.710938, train_acc: 1.000000, test_acc: 0.991900, loss: 1.873494, num_non_zero: 3206421"
       ]
      },
      {
       "output_type": "stream",
       "stream": "stdout",
       "text": [
        "\n",
        "step 33000, cross_ent: 0.084688, l1_norm: 36941.957031, train_acc: 1.000000, test_acc: 0.991800, loss: 1.931786, num_non_zero: 3204557"
       ]
      },
      {
       "output_type": "stream",
       "stream": "stdout",
       "text": [
        "\n",
        "step 34000, cross_ent: 0.001923, l1_norm: 37032.910156, train_acc: 1.000000, test_acc: 0.992900, loss: 1.853569, num_non_zero: 3206179"
       ]
      },
      {
       "output_type": "stream",
       "stream": "stdout",
       "text": [
        "\n",
        "step 35000, cross_ent: 0.002187, l1_norm: 36748.324219, train_acc: 1.000000, test_acc: 0.993500, loss: 1.839603, num_non_zero: 3202398"
       ]
      },
      {
       "output_type": "stream",
       "stream": "stdout",
       "text": [
        "\n",
        "step 36000, cross_ent: 0.609052, l1_norm: 35121.253906, train_acc: 1.000000, test_acc: 0.992800, loss: 2.365114, num_non_zero: 3199838"
       ]
      },
      {
       "output_type": "stream",
       "stream": "stdout",
       "text": [
        "\n",
        "step 37000, cross_ent: 0.000095, l1_norm: 35393.160156, train_acc: 1.000000, test_acc: 0.991300, loss: 1.769753, num_non_zero: 3204200"
       ]
      },
      {
       "output_type": "stream",
       "stream": "stdout",
       "text": [
        "\n",
        "step 38000, cross_ent: 0.004352, l1_norm: 35525.535156, train_acc: 1.000000, test_acc: 0.992300, loss: 1.780629, num_non_zero: 3206632"
       ]
      },
      {
       "output_type": "stream",
       "stream": "stdout",
       "text": [
        "\n",
        "step 39000, cross_ent: 0.000300, l1_norm: 33058.691406, train_acc: 1.000000, test_acc: 0.991300, loss: 1.653235, num_non_zero: 3202741"
       ]
      },
      {
       "output_type": "stream",
       "stream": "stdout",
       "text": [
        "\n",
        "step 40000, cross_ent: 0.000774, l1_norm: 35161.882812, train_acc: 1.000000, test_acc: 0.990900, loss: 1.758868, num_non_zero: 3213332"
       ]
      },
      {
       "output_type": "stream",
       "stream": "stdout",
       "text": [
        "\n",
        "step 41000, cross_ent: 0.000047, l1_norm: 32367.257812, train_acc: 1.000000, test_acc: 0.993600, loss: 1.618410, num_non_zero: 3200729"
       ]
      },
      {
       "output_type": "stream",
       "stream": "stdout",
       "text": [
        "\n",
        "step 42000, cross_ent: 0.012548, l1_norm: 35072.750000, train_acc: 1.000000, test_acc: 0.991800, loss: 1.766186, num_non_zero: 3213542"
       ]
      },
      {
       "output_type": "stream",
       "stream": "stdout",
       "text": [
        "\n",
        "step 43000, cross_ent: 0.000852, l1_norm: 36595.011719, train_acc: 1.000000, test_acc: 0.992000, loss: 1.830602, num_non_zero: 3208400"
       ]
      },
      {
       "output_type": "stream",
       "stream": "stdout",
       "text": [
        "\n",
        "step 44000, cross_ent: 0.069026, l1_norm: 34279.933594, train_acc: 1.000000, test_acc: 0.991000, loss: 1.783023, num_non_zero: 3202334"
       ]
      },
      {
       "output_type": "stream",
       "stream": "stdout",
       "text": [
        "\n",
        "step 45000, cross_ent: 1.311425, l1_norm: 34328.183594, train_acc: 0.980000, test_acc: 0.991700, loss: 3.027834, num_non_zero: 3198252"
       ]
      },
      {
       "output_type": "stream",
       "stream": "stdout",
       "text": [
        "\n",
        "step 46000, cross_ent: 0.003762, l1_norm: 33964.207031, train_acc: 1.000000, test_acc: 0.991400, loss: 1.701972, num_non_zero: 3199006"
       ]
      },
      {
       "output_type": "stream",
       "stream": "stdout",
       "text": [
        "\n",
        "step 47000, cross_ent: 0.000002, l1_norm: 35200.214844, train_acc: 1.000000, test_acc: 0.991200, loss: 1.760013, num_non_zero: 3204156"
       ]
      },
      {
       "output_type": "stream",
       "stream": "stdout",
       "text": [
        "\n",
        "step 48000, cross_ent: 0.000018, l1_norm: 33400.058594, train_acc: 1.000000, test_acc: 0.993400, loss: 1.670021, num_non_zero: 3200663"
       ]
      },
      {
       "output_type": "stream",
       "stream": "stdout",
       "text": [
        "\n",
        "step 49000, cross_ent: 0.007294, l1_norm: 33139.949219, train_acc: 1.000000, test_acc: 0.992300, loss: 1.664291, num_non_zero: 3203157"
       ]
      },
      {
       "output_type": "stream",
       "stream": "stdout",
       "text": [
        "\n"
       ]
      }
     ],
     "prompt_number": 7
    },
    {
     "cell_type": "code",
     "collapsed": false,
     "input": [
      "print get_test_accuracy()"
     ],
     "language": "python",
     "metadata": {},
     "outputs": [
      {
       "output_type": "stream",
       "stream": "stdout",
       "text": [
        "0.9916\n"
       ]
      }
     ],
     "prompt_number": 8
    },
    {
     "cell_type": "code",
     "collapsed": true,
     "input": [],
     "language": "python",
     "metadata": {},
     "outputs": [],
     "prompt_number": 8
    }
   ],
   "metadata": {}
  }
 ]
}