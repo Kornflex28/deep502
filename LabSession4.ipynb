{
 "metadata": {
  "kernelspec": {
   "display_name": "Python 2",
   "language": "python",
   "name": "python2"
  },
  "language_info": {
   "codemirror_mode": {
    "name": "ipython",
    "version": 2
   },
   "file_extension": ".py",
   "mimetype": "text/x-python",
   "name": "python",
   "nbconvert_exporter": "python",
   "pygments_lexer": "ipython2",
   "version": "2.7.14"
  },
  "name": "",
  "signature": "sha256:885a08ff6a1ea867edbc4873e8d59795ca7b3ba948352b49c03046aa30dceaed"
 },
 "nbformat": 3,
 "nbformat_minor": 0,
 "worksheets": [
  {
   "cells": [
    {
     "cell_type": "markdown",
     "metadata": {},
     "source": [
      "# ELU 502 Deep learning -- Lab session 4\n",
      "Pierre-Henri Conze, Fran\u00e7ois Rousseau - session : 1h20"
     ]
    },
    {
     "cell_type": "heading",
     "level": 2,
     "metadata": {},
     "source": [
      "Objective of this lab session: perform classification on MNIST dataset using convolutional neural networks"
     ]
    },
    {
     "cell_type": "markdown",
     "metadata": {},
     "source": [
      "In lab session 3, MNIST classification has been performed relying on multi-layer perceptron (MLP). The obtained accuracy was 92% with a simple softmax regressor and 98% with MLP which can be further improved! Let us jump from this simple model to something moderately more sophisticated, namely convolutional neural networks.\n",
      "\n",
      "For recall, MNIST is a computer vision dataset which consists of handwritten digit images with associated label. Each image in MNIST has a corresponding label, a number between 0 and 9 representing the digit drawn in the image."
     ]
    },
    {
     "cell_type": "heading",
     "level": 3,
     "metadata": {},
     "source": [
      "Part 1 - Data management and visualization"
     ]
    },
    {
     "cell_type": "markdown",
     "metadata": {},
     "source": [
      "First, let us download and read the MNIST data."
     ]
    },
    {
     "cell_type": "code",
     "collapsed": false,
     "input": [
      "%matplotlib inline\n",
      "import keras\n",
      "from keras.datasets import mnist\n",
      "(x_train, y_train), (x_test, y_test) = mnist.load_data()"
     ],
     "language": "python",
     "metadata": {},
     "outputs": [],
     "prompt_number": 27
    },
    {
     "cell_type": "code",
     "collapsed": false,
     "input": [
      "print('x_train shape:', x_train.shape, 'x_test shape:', x_test.shape)\n",
      "print(x_train.shape[0], 'train samples')\n",
      "print(x_test.shape[0], 'test samples')\n",
      "print(x_test[0,:,:].shape, 'image size')"
     ],
     "language": "python",
     "metadata": {},
     "outputs": [
      {
       "output_type": "stream",
       "stream": "stdout",
       "text": [
        "('x_train shape:', (60000, 28, 28), 'x_test shape:', (10000, 28, 28))\n",
        "(60000, 'train samples')\n",
        "(10000, 'test samples')\n",
        "((28, 28), 'image size')\n"
       ]
      }
     ],
     "prompt_number": 28
    },
    {
     "cell_type": "markdown",
     "metadata": {},
     "source": [
      "The MNIST data is split into two parts: 60000 data points of training data, 10000 points of test data. Each image is 28 pixels by 28 pixels. \n",
      "Let us visualize some of the data."
     ]
    },
    {
     "cell_type": "code",
     "collapsed": false,
     "input": [
      "import matplotlib.pyplot as plt\n",
      "import numpy as np\n",
      "plt.figure()\n",
      "for i in range(10):\n",
      "    plt.subplot(2, 5, i + 1)\n",
      "    plt.axis('off')\n",
      "    index = np.where(y_train == i)[0][0]\n",
      "    plt.imshow(x_train[index,:,:],cmap=plt.cm.gray_r)\n",
      "    plt.title('Training: %i' % y_train[index])\n",
      "plt.show()"
     ],
     "language": "python",
     "metadata": {},
     "outputs": [
      {
       "metadata": {},
       "output_type": "display_data",
       "png": "[encoded data removed]",
       "text": [
        "<Figure size 600x400 with 10 Axes>"
       ]
      }
     ],
     "prompt_number": 29
    },
    {
     "cell_type": "markdown",
     "metadata": {},
     "source": [
      "For further processing using keras functions, MNIST data must stacked in a 4D tensor with shape (samples, rows, cols, channels). In our case, channels=1 since we are working with greyscale images. As in lab session 3, pixel intensities need to rescaled between 0 and 1. Moreovre, labels can be described as one-hot vectors using the to_categorical() keras function."
     ]
    },
    {
     "cell_type": "code",
     "collapsed": false,
     "input": [
      "img_rows, img_cols = 28, 28\n",
      "num_classes = 10\n",
      "\n",
      "# build 4D tensors\n",
      "x_train = x_train.reshape(x_train.shape[0], img_rows, img_cols, 1)\n",
      "x_test = x_test.reshape(x_test.shape[0], img_rows, img_cols, 1)\n",
      "# data normalization\n",
      "x_train = x_train.astype('float32')/255.\n",
      "x_test = x_test.astype('float32')/255.\n",
      "# convert class vectors to binary class matrices\n",
      "z_train = keras.utils.to_categorical(y_train, num_classes)\n",
      "z_test = keras.utils.to_categorical(y_test, num_classes)"
     ],
     "language": "python",
     "metadata": {},
     "outputs": [],
     "prompt_number": 30
    },
    {
     "cell_type": "heading",
     "level": 3,
     "metadata": {},
     "source": [
      "Part 2 - Building a convolutional neural network with keras"
     ]
    },
    {
     "cell_type": "markdown",
     "metadata": {},
     "source": [
      "The sequential Keras model is a linear stack of layers. You can create a sequential model by passing a list of layer instances to the constructor. Among the layer instances, you can use:\n",
      "  - convolutional layer using Conv2D (https://keras.io/layers/convolutional/#conv2d)\n",
      "  - max-pooling layer using MaxPooling2D (https://keras.io/layers/pooling/#maxpooling2d)\n",
      "  - Dropout (https://keras.io/layers/core/#dropout)\n",
      "  - regular densely-connected layer using Dense (https://keras.io/layers/core/#dense)"
     ]
    },
    {
     "cell_type": "code",
     "collapsed": true,
     "input": [
      "from keras.models import Sequential\n",
      "from keras.layers import Dense, Dropout, Flatten\n",
      "from keras.layers import Conv2D, MaxPooling2D\n",
      "from keras import backend as K"
     ],
     "language": "python",
     "metadata": {},
     "outputs": [],
     "prompt_number": 31
    },
    {
     "cell_type": "markdown",
     "metadata": {},
     "source": [
      "Once keras modules have been imported, we can simply add layers using the .add() method."
     ]
    },
    {
     "cell_type": "markdown",
     "metadata": {},
     "source": [
      "In addition, the model needs to know what input shape it should expect. For this reason, the first layer in a Sequential model (and only the first, because following layers can do automatic shape inference) needs to receive information about its input shape:"
     ]
    },
    {
     "cell_type": "code",
     "collapsed": true,
     "input": [
      "input_shape = (img_rows, img_cols, 1)"
     ],
     "language": "python",
     "metadata": {},
     "outputs": [],
     "prompt_number": 32
    },
    {
     "cell_type": "markdown",
     "metadata": {},
     "source": [
      "#### 1) Create a convolutional neural network following the architecture given below:\n",
      " - convolutional layer using 32 3x3 filters with stride 1 and \"ReLU\" activation\n",
      " - convolutional layer using 64 3x3 filters with stride 1 and \"ReLU\" activation\n",
      " - max pooling with vertical, horizontal downscale of 2\n",
      " - flatten layer (https://keras.io/layers/core/#flatten) to flatten the input array\n",
      " - dense layer with 128 units\n",
      " - dense layer with \"num_classes=10\" units"
     ]
    },
    {
     "cell_type": "code",
     "collapsed": true,
     "input": [
      "model = Sequential()\n",
      "model.add(Conv2D(32, (3,3), activation=\"relu\", input_shape = input_shape, padding=\"SAME\"))\n",
      "model.add(Conv2D(64, (3,3), activation=\"relu\",padding=\"SAME\"))\n",
      "model.add(MaxPooling2D())\n",
      "model.add(Flatten())\n",
      "model.add(Dense(units=128))\n",
      "model.add(Dense(units=num_classes, activation=\"softmax\"))\n"
     ],
     "language": "python",
     "metadata": {},
     "outputs": [],
     "prompt_number": 39
    },
    {
     "cell_type": "markdown",
     "metadata": {},
     "source": [
      "Before training a model, you need to configure the learning process, which is done through the compile() method. It receives three arguments:\n",
      "\n",
      " - an optimizer: this could be the string identifier of an existing optimizer (such as rmsprop or adagrad), or an instance of the Optimizer class.\n",
      " - A loss function: this is the objective that the model will try to minimize. It can be the string identifier of an existing loss function (such as categorical_crossentropy or mse), or an objective function.\n",
      " - A list of metrics to evaluate results. A metric could be the string identifier of an existing metric or a custom metric function."
     ]
    },
    {
     "cell_type": "heading",
     "level": 4,
     "metadata": {},
     "source": [
      "2) Define the loss, the optimizer and the metrics. Then, compile your model. You can find some help from https://keras.io/models/sequential/#compile. "
     ]
    },
    {
     "cell_type": "code",
     "collapsed": true,
     "input": [
      "from keras.optimizers import RMSprop\n",
      "optimizer = RMSprop()\n",
      "model.compile(optimizer, 'categorical_crossentropy', metrics=['accuracy'])"
     ],
     "language": "python",
     "metadata": {},
     "outputs": [],
     "prompt_number": 40
    },
    {
     "cell_type": "heading",
     "level": 4,
     "metadata": {},
     "source": [
      "3) Describe input/output sizes of each layer. Confirm your analysis by using model.summary()"
     ]
    },
    {
     "cell_type": "code",
     "collapsed": false,
     "input": [
      "model.summary()"
     ],
     "language": "python",
     "metadata": {},
     "outputs": [
      {
       "output_type": "stream",
       "stream": "stdout",
       "text": [
        "_________________________________________________________________\n",
        "Layer (type)                 Output Shape              Param #   \n",
        "=================================================================\n",
        "conv2d_15 (Conv2D)           (None, 28, 28, 32)        320       \n",
        "_________________________________________________________________\n",
        "conv2d_16 (Conv2D)           (None, 28, 28, 64)        18496     \n",
        "_________________________________________________________________\n",
        "max_pooling2d_7 (MaxPooling2 (None, 14, 14, 64)        0         \n",
        "_________________________________________________________________\n",
        "flatten_7 (Flatten)          (None, 12544)             0         \n",
        "_________________________________________________________________\n",
        "dense_13 (Dense)             (None, 128)               1605760   \n",
        "_________________________________________________________________\n",
        "dense_14 (Dense)             (None, 10)                1290      \n",
        "=================================================================\n",
        "Total params: 1,625,866\n",
        "Trainable params: 1,625,866\n",
        "Non-trainable params: 0\n",
        "_________________________________________________________________\n"
       ]
      }
     ],
     "prompt_number": 41
    },
    {
     "cell_type": "heading",
     "level": 4,
     "metadata": {},
     "source": [
      "4) Keras models are trained on Numpy arrays of input data and labels. For training a model, we can use the fit() function (https://keras.io/models/sequential/#fit). Run the training using a batch size of 128 and 12 epochs. Test data will be used as validatation data."
     ]
    },
    {
     "cell_type": "code",
     "collapsed": false,
     "input": [
      "batch_size = 128\n",
      "epochs = 12\n",
      "\n",
      "# Fit the model\n",
      "history = model.fit(x_train, z_train,batch_size=batch_size, validation_split=0.2,validation_data=(x_test,z_test), epochs=epochs, verbose=2)"
     ],
     "language": "python",
     "metadata": {},
     "outputs": [
      {
       "output_type": "stream",
       "stream": "stdout",
       "text": [
        "Train on 60000 samples, validate on 10000 samples\n",
        "Epoch 1/12\n",
        " - 6s - loss: 0.1413 - acc: 0.9566 - val_loss: 0.0546 - val_acc: 0.9831\n"
       ]
      },
      {
       "output_type": "stream",
       "stream": "stdout",
       "text": [
        "Epoch 2/12\n",
        " - 5s - loss: 0.0466 - acc: 0.9856 - val_loss: 0.0454 - val_acc: 0.9863\n"
       ]
      },
      {
       "output_type": "stream",
       "stream": "stdout",
       "text": [
        "Epoch 3/12\n",
        " - 5s - loss: 0.0324 - acc: 0.9897 - val_loss: 0.0329 - val_acc: 0.9890\n"
       ]
      },
      {
       "output_type": "stream",
       "stream": "stdout",
       "text": [
        "Epoch 4/12\n",
        " - 5s - loss: 0.0232 - acc: 0.9929 - val_loss: 0.0320 - val_acc: 0.9902\n"
       ]
      },
      {
       "output_type": "stream",
       "stream": "stdout",
       "text": [
        "Epoch 5/12\n",
        " - 5s - loss: 0.0172 - acc: 0.9948 - val_loss: 0.0381 - val_acc: 0.9883\n"
       ]
      },
      {
       "output_type": "stream",
       "stream": "stdout",
       "text": [
        "Epoch 6/12\n",
        " - 5s - loss: 0.0141 - acc: 0.9955 - val_loss: 0.0423 - val_acc: 0.9883\n"
       ]
      },
      {
       "output_type": "stream",
       "stream": "stdout",
       "text": [
        "Epoch 7/12\n",
        " - 5s - loss: 0.0111 - acc: 0.9965 - val_loss: 0.0432 - val_acc: 0.9887\n"
       ]
      },
      {
       "output_type": "stream",
       "stream": "stdout",
       "text": [
        "Epoch 8/12\n",
        " - 5s - loss: 0.0082 - acc: 0.9974 - val_loss: 0.0486 - val_acc: 0.9885\n"
       ]
      },
      {
       "output_type": "stream",
       "stream": "stdout",
       "text": [
        "Epoch 9/12\n",
        " - 5s - loss: 0.0073 - acc: 0.9976 - val_loss: 0.0644 - val_acc: 0.9859\n"
       ]
      },
      {
       "output_type": "stream",
       "stream": "stdout",
       "text": [
        "Epoch 10/12\n",
        " - 5s - loss: 0.0053 - acc: 0.9983 - val_loss: 0.0789 - val_acc: 0.9854\n"
       ]
      },
      {
       "output_type": "stream",
       "stream": "stdout",
       "text": [
        "Epoch 11/12\n",
        " - 5s - loss: 0.0055 - acc: 0.9983 - val_loss: 0.0674 - val_acc: 0.9864\n"
       ]
      },
      {
       "output_type": "stream",
       "stream": "stdout",
       "text": [
        "Epoch 12/12\n",
        " - 5s - loss: 0.0042 - acc: 0.9987 - val_loss: 0.0679 - val_acc: 0.9873\n"
       ]
      }
     ],
     "prompt_number": 42
    },
    {
     "cell_type": "heading",
     "level": 3,
     "metadata": {},
     "source": [
      "Part 3 - Evaluation"
     ]
    },
    {
     "cell_type": "markdown",
     "metadata": {},
     "source": [
      "The model.fit() method returns an History callback, which has a history attribute containing the lists of successive losses and other metrics."
     ]
    },
    {
     "cell_type": "heading",
     "level": 4,
     "metadata": {},
     "source": [
      "5) Display the loss and the accuracy across training "
     ]
    },
    {
     "cell_type": "code",
     "collapsed": false,
     "input": [
      "# list all data in history\n",
      "print(history.history.keys())\n",
      "\n",
      "#Visualize history (loss vs epochs)\n",
      "plt.figure()\n",
      "plt.plot(history.history['loss'])\n",
      "plt.plot(history.history['val_loss'])\n",
      "plt.title('model acc')\n",
      "plt.ylabel('acc')  \n",
      "plt.xlabel('epochs')\n",
      "plt.legend(['train','val'], loc='upper left')\n",
      "plt.show()\n",
      "\n",
      "score = model.evaluate(x_test, z_test, verbose=0)\n",
      "print('Test loss:', score[0])\n",
      "print('Test accuracy:', score[1])"
     ],
     "language": "python",
     "metadata": {},
     "outputs": [
      {
       "output_type": "stream",
       "stream": "stdout",
       "text": [
        "['acc', 'loss', 'val_acc', 'val_loss']\n"
       ]
      },
      {
       "metadata": {},
       "output_type": "display_data",
       "png": "[encoded data removed]",
       "text": [
        "<Figure size 600x400 with 1 Axes>"
       ]
      },
      {
       "output_type": "stream",
       "stream": "stdout",
       "text": [
        "('Test loss:', 0.06788710071582181)\n",
        "('Test accuracy:', 0.98729999999999996)\n"
       ]
      }
     ],
     "prompt_number": 45
    },
    {
     "cell_type": "code",
     "collapsed": false,
     "input": [
      "#Visualize history (loss vs epochs)\n",
      "plt.figure()\n",
      "plt.plot(history.history['loss'])\n",
      "plt.plot(history.history['val_loss'])\n",
      "plt.title('model acc')\n",
      "plt.ylabel('acc')  \n",
      "plt.xlabel('epochs')\n",
      "plt.legend(['train','val'], loc='upper left')\n",
      "plt.show()\n",
      "\n",
      "score = model.evaluate(x_test, z_test, verbose=0)\n",
      "print('Test loss:', score[0])\n",
      "print('Test accuracy:', score[1])"
     ],
     "language": "python",
     "metadata": {},
     "outputs": [],
     "prompt_number": null
    },
    {
     "cell_type": "heading",
     "level": 4,
     "metadata": {},
     "source": [
      "6) Evaluate the global test loss and accuracy using the evaluate() method (https://keras.io/models/sequential/#evaluate)."
     ]
    },
    {
     "cell_type": "code",
     "collapsed": false,
     "input": [
      "# to do"
     ],
     "language": "python",
     "metadata": {},
     "outputs": [],
     "prompt_number": null
    },
    {
     "cell_type": "heading",
     "level": 4,
     "metadata": {},
     "source": [
      "7) Visualize some wrongly predicted data"
     ]
    },
    {
     "cell_type": "code",
     "collapsed": false,
     "input": [
      "%pylab inline\n",
      "\n",
      "z_predict= model.predict(x_test,batch_size)\n",
      "y_predict=[np.argmax(i) for i in z_predict]\n",
      "y_false = y_test-y_predict\n",
      "y_false_index = np.where(y_false !=0)[0]\n",
      "\n",
      "(a,b),(x_test2, y_test2) = mnist.load_data()\n",
      "\n",
      "\n",
      "c=0\n",
      "for i in y_false_index[:50]:\n",
      "    plt.subplot(5, 10, c + 1)\n",
      "    plt.axis('off')\n",
      "    plt.imshow(x_test2[i], cmap=plt.cm.gray_r, interpolation='nearest')\n",
      "    plt.title('(True: %i , Pred: %i)' % (y_test[i], y_predict[i]))\n",
      "    c+=1\n",
      "subplots_adjust(right=3,top =3)\n",
      "plt.show()"
     ],
     "language": "python",
     "metadata": {},
     "outputs": [
      {
       "output_type": "stream",
       "stream": "stdout",
       "text": [
        "Populating the interactive namespace from numpy and matplotlib\n"
       ]
      },
      {
       "metadata": {},
       "output_type": "display_data",
       "png": "[encoded data removed]",
       "text": [
        "<Figure size 600x400 with 50 Axes>"
       ]
      }
     ],
     "prompt_number": 47
    },
    {
     "cell_type": "markdown",
     "metadata": {},
     "source": [
      "Up to now, we have learned how to quickly and easily build, train, and evaluate a convolutional neural network using Keras. The final test set accuracy on MNIST dataset is approximately 99% which is better than the results obtained with MLP."
     ]
    },
    {
     "cell_type": "heading",
     "level": 3,
     "metadata": {},
     "source": [
      "Part 4 - Robustness to noise"
     ]
    },
    {
     "cell_type": "heading",
     "level": 4,
     "metadata": {},
     "source": [
      "8) Evaluate the network predictions on noisy data with two different noise factors"
     ]
    },
    {
     "cell_type": "code",
     "collapsed": false,
     "input": [
      "noise_factor = 0.2\n",
      "x_test_noisy = x_test + noise_factor * np.random.normal(loc=0.0, scale=1.0, size=x_test.shape)\n",
      "x_test_noisy = np.clip(x_test_noisy, 0., 1.)\n",
      "plt.figure()\n",
      "for i in range(10):\n",
      "    plt.subplot(2, 5, i + 1)\n",
      "    plt.axis('off')\n",
      "    index = np.where(y_test == i)[0][0]\n",
      "    plt.imshow(x_test_noisy[index,:,:,0], cmap=plt.cm.gray_r)\n",
      "    plt.title('%i' % y_test[index])\n",
      "plt.show()\n",
      "score = model.evaluate(x_test_noisy, z_test, verbose=0)\n",
      "print('Test loss:', score[0])\n",
      "print('Test accuracy:', score[1])\n"
     ],
     "language": "python",
     "metadata": {},
     "outputs": [
      {
       "metadata": {},
       "output_type": "display_data",
       "png": "[encoded data removed]",
       "text": [
        "<Figure size 600x400 with 10 Axes>"
       ]
      },
      {
       "output_type": "stream",
       "stream": "stdout",
       "text": [
        "('Test loss:', 0.14635890591474598)\n",
        "('Test accuracy:', 0.96840000000000004)\n"
       ]
      }
     ],
     "prompt_number": 48
    },
    {
     "cell_type": "code",
     "collapsed": false,
     "input": [
      "noise_factor = 0.8\n",
      "x_test_noisy = x_test + noise_factor * np.random.normal(loc=0.0, scale=1.0, size=x_test.shape)\n",
      "x_test_noisy = np.clip(x_test_noisy, 0., 1.)\n",
      "plt.figure()\n",
      "for i in range(10):\n",
      "    plt.subplot(2, 5, i + 1)\n",
      "    plt.axis('off')\n",
      "    index = np.where(y_test == i)[0][0]\n",
      "    plt.imshow(x_test_noisy[index,:,:,0], cmap=plt.cm.gray_r)\n",
      "    plt.title('%i' % y_test[index])\n",
      "plt.show()\n",
      "score = model.evaluate(x_test_noisy, z_test, verbose=0)\n",
      "print('Test loss:', score[0])\n",
      "print('Test accuracy:', score[1])\n",
      "\n"
     ],
     "language": "python",
     "metadata": {},
     "outputs": [
      {
       "metadata": {},
       "output_type": "display_data",
       "png": "[encoded data removed]",
       "text": [
        "<Figure size 600x400 with 10 Axes>"
       ]
      },
      {
       "output_type": "stream",
       "stream": "stdout",
       "text": [
        "('Test loss:', 3.6652626665115355)\n",
        "('Test accuracy:', 0.62429999999999997)\n"
       ]
      }
     ],
     "prompt_number": 58
    },
    {
     "cell_type": "markdown",
     "metadata": {},
     "source": [
      "With strong noise, the accuracy decreases from 99% to 80% since training samples are not enough representative. Let us train the model directly on noisy data samples to see the performance."
     ]
    },
    {
     "cell_type": "heading",
     "level": 4,
     "metadata": {},
     "source": [
      "9) Train and evaluate the same CNN architecture on noisy data with 0.4 as noise factor. "
     ]
    },
    {
     "cell_type": "code",
     "collapsed": false,
     "input": [
      "noise_factor = 0.8\n",
      "x_train_noisy = x_train + noise_factor * np.random.normal(loc=0.0, scale=1.0, size=x_train.shape)\n",
      "x_train_noisy = np.clip(x_train_noisy, 0., 1.)\n",
      "\n",
      "model = Sequential()\n",
      "model.add(Conv2D(32, (3,3), activation=\"relu\", input_shape = input_shape, padding=\"SAME\"))\n",
      "model.add(Conv2D(64, (3,3), activation=\"relu\",padding=\"SAME\"))\n",
      "model.add(MaxPooling2D())\n",
      "model.add(Flatten())\n",
      "model.add(Dense(units=128))\n",
      "model.add(Dense(units=num_classes, activation=\"softmax\"))\n",
      "\n",
      "optimizer = RMSprop()\n",
      "model.compile(optimizer, 'categorical_crossentropy', metrics=['accuracy'])\n",
      "\n",
      "batch_size = 128\n",
      "epochs = 12\n",
      "\n",
      "# Fit the model\n",
      "history = model.fit(x_train_noisy, z_train,batch_size=batch_size, validation_split=0.2,validation_data=(x_test_noisy,z_test), epochs=epochs, verbose=2)"
     ],
     "language": "python",
     "metadata": {},
     "outputs": [
      {
       "output_type": "stream",
       "stream": "stdout",
       "text": [
        "Train on 60000 samples, validate on 10000 samples\n",
        "Epoch 1/12\n",
        " - 6s - loss: 0.8090 - acc: 0.7443 - val_loss: 0.4598 - val_acc: 0.8509\n"
       ]
      },
      {
       "output_type": "stream",
       "stream": "stdout",
       "text": [
        "Epoch 2/12\n",
        " - 6s - loss: 0.4340 - acc: 0.8573 - val_loss: 0.4163 - val_acc: 0.8628\n"
       ]
      },
      {
       "output_type": "stream",
       "stream": "stdout",
       "text": [
        "Epoch 3/12\n",
        " - 6s - loss: 0.3602 - acc: 0.8810 - val_loss: 0.4153 - val_acc: 0.8663\n"
       ]
      },
      {
       "output_type": "stream",
       "stream": "stdout",
       "text": [
        "Epoch 4/12\n",
        " - 6s - loss: 0.2990 - acc: 0.9023 - val_loss: 0.4137 - val_acc: 0.8666\n"
       ]
      },
      {
       "output_type": "stream",
       "stream": "stdout",
       "text": [
        "Epoch 5/12\n",
        " - 6s - loss: 0.2464 - acc: 0.9181 - val_loss: 0.4660 - val_acc: 0.8555\n"
       ]
      },
      {
       "output_type": "stream",
       "stream": "stdout",
       "text": [
        "Epoch 6/12\n",
        " - 5s - loss: 0.1975 - acc: 0.9351 - val_loss: 0.5602 - val_acc: 0.8429\n"
       ]
      },
      {
       "output_type": "stream",
       "stream": "stdout",
       "text": [
        "Epoch 7/12\n",
        " - 6s - loss: 0.1566 - acc: 0.9475 - val_loss: 0.6118 - val_acc: 0.8401\n"
       ]
      },
      {
       "output_type": "stream",
       "stream": "stdout",
       "text": [
        "Epoch 8/12\n",
        " - 6s - loss: 0.1213 - acc: 0.9587 - val_loss: 0.7320 - val_acc: 0.8378\n"
       ]
      },
      {
       "output_type": "stream",
       "stream": "stdout",
       "text": [
        "Epoch 9/12\n",
        " - 6s - loss: 0.0941 - acc: 0.9678 - val_loss: 0.8344 - val_acc: 0.8238\n"
       ]
      },
      {
       "output_type": "stream",
       "stream": "stdout",
       "text": [
        "Epoch 10/12\n",
        " - 6s - loss: 0.0741 - acc: 0.9741 - val_loss: 0.8567 - val_acc: 0.8370\n"
       ]
      },
      {
       "output_type": "stream",
       "stream": "stdout",
       "text": [
        "Epoch 11/12\n",
        " - 6s - loss: 0.0591 - acc: 0.9794 - val_loss: 1.0251 - val_acc: 0.8334\n"
       ]
      },
      {
       "output_type": "stream",
       "stream": "stdout",
       "text": [
        "Epoch 12/12\n",
        " - 6s - loss: 0.0490 - acc: 0.9823 - val_loss: 1.0752 - val_acc: 0.8327\n"
       ]
      }
     ],
     "prompt_number": 59
    },
    {
     "cell_type": "code",
     "collapsed": false,
     "input": [
      "# list all data in history\n",
      "print(history.history.keys())\n",
      "\n",
      "#Visualize history (loss vs epochs)\n",
      "plt.figure()\n",
      "plt.plot(history.history['loss'])\n",
      "plt.plot(history.history['val_loss'])\n",
      "plt.title('model acc')\n",
      "plt.ylabel('acc')  \n",
      "plt.xlabel('epochs')\n",
      "plt.legend(['train','val'], loc='upper left')\n",
      "plt.show()\n",
      "\n",
      "score = model.evaluate(x_test_noisy, z_test, verbose=0)\n",
      "print('Test loss:', score[0])\n",
      "print('Test accuracy:', score[1])"
     ],
     "language": "python",
     "metadata": {},
     "outputs": [
      {
       "output_type": "stream",
       "stream": "stdout",
       "text": [
        "['acc', 'loss', 'val_acc', 'val_loss']\n"
       ]
      },
      {
       "metadata": {},
       "output_type": "display_data",
       "png": "[encoded data removed]",
       "text": [
        "<Figure size 600x400 with 1 Axes>"
       ]
      },
      {
       "output_type": "stream",
       "stream": "stdout",
       "text": [
        "('Test loss:', 1.075152002189681)\n",
        "('Test accuracy:', 0.8327)\n"
       ]
      }
     ],
     "prompt_number": 60
    },
    {
     "cell_type": "code",
     "collapsed": false,
     "input": [
      "#test without noise\n",
      "score = model.evaluate(x_test, z_test, verbose=0)\n",
      "print('Test loss:', score[0])\n",
      "print('Test accuracy:', score[1])\n"
     ],
     "language": "python",
     "metadata": {},
     "outputs": [
      {
       "output_type": "stream",
       "stream": "stdout",
       "text": [
        "('Test loss:', 0.27507151185131207)\n",
        "('Test accuracy:', 0.96760000000000002)\n"
       ]
      }
     ],
     "prompt_number": 61
    },
    {
     "cell_type": "heading",
     "level": 4,
     "metadata": {},
     "source": [
      "10) What is the expected result when using Dropout layers? Evaluate the network without Dropout layers and conclude based on global test accuracy "
     ]
    },
    {
     "cell_type": "markdown",
     "metadata": {},
     "source": [
      "Dropout consists in randomly setting a fraction rate of input units to 0 at each update during training time, which helps prevent overfitting."
     ]
    },
    {
     "cell_type": "code",
     "collapsed": false,
     "input": [
      "# model_noise2 = Sequential()\n",
      "# to do"
     ],
     "language": "python",
     "metadata": {},
     "outputs": [],
     "prompt_number": null
    },
    {
     "cell_type": "markdown",
     "metadata": {},
     "source": [
      "For this small convolutional network, performance is actually nearly identical with and without dropout. Here, when training and predict on noisy data, we jump from 97,8% (without dropout) to 98,0% (with dropout). Dropout is often very effective at reducing overfitting, but it is most useful when training very large neural networks."
     ]
    },
    {
     "cell_type": "heading",
     "level": 3,
     "metadata": {},
     "source": [
      "Part 5 - Towards more deeper networks"
     ]
    },
    {
     "cell_type": "markdown",
     "metadata": {},
     "source": [
      "In this last part, we come back to the original dataset, i.e. without additional noise."
     ]
    },
    {
     "cell_type": "heading",
     "level": 4,
     "metadata": {},
     "source": [
      "11) Implement a deeper convolutional neural network by adding two convolutional  layers and one max pooling layer before the first Dropout. What is the performance gain?"
     ]
    },
    {
     "cell_type": "code",
     "collapsed": false,
     "input": [
      "model2 = Sequential()\n",
      "# to do"
     ],
     "language": "python",
     "metadata": {},
     "outputs": [],
     "prompt_number": null
    },
    {
     "cell_type": "markdown",
     "metadata": {},
     "source": [
      "This slightly more deeper network reaches around 99,35% in terms of accuracy (instead of 99% as in question 6). "
     ]
    },
    {
     "cell_type": "heading",
     "level": 4,
     "metadata": {},
     "source": [
      "12) Study the confusion matrix:"
     ]
    },
    {
     "cell_type": "code",
     "collapsed": false,
     "input": [
      "from sklearn.metrics import confusion_matrix\n",
      "import itertools\n",
      "\n",
      "z_pred = model2.predict(x_test)\n",
      "y_pred = np.argmax(z_pred,axis=1)\n",
      "\n",
      "class_names= ['0','1','2','3','4','5','6','7','8','9']\n",
      "\n",
      "def plot_confusion_matrix(cm, classes,\n",
      "                          normalize=False,\n",
      "                          title='Confusion matrix',\n",
      "                          cmap=plt.cm.Blues):\n",
      "    \"\"\"\n",
      "    This function prints and plots the confusion matrix.\n",
      "    Normalization can be applied by setting `normalize=True`.\n",
      "    \"\"\"\n",
      "    if normalize:\n",
      "        cm = cm.astype('float') / cm.sum(axis=1)[:, np.newaxis]\n",
      "        print(\"Normalized confusion matrix\")\n",
      "    else:\n",
      "        print('Confusion matrix, without normalization')\n",
      "\n",
      "    #print(cm)\n",
      "\n",
      "    plt.imshow(cm, interpolation='nearest', cmap=cmap)\n",
      "    plt.title(title)\n",
      "    plt.colorbar()\n",
      "    tick_marks = np.arange(len(classes))\n",
      "    plt.xticks(tick_marks, classes, rotation=45)\n",
      "    plt.yticks(tick_marks, classes)\n",
      "\n",
      "    fmt = '.2f' if normalize else 'd'\n",
      "    thresh = cm.max() / 2.\n",
      "    for i, j in itertools.product(range(cm.shape[0]), range(cm.shape[1])):\n",
      "        plt.text(j, i, format(cm[i, j], fmt),\n",
      "                 horizontalalignment=\"center\",\n",
      "                 color=\"white\" if cm[i, j] > thresh else \"black\")\n",
      "\n",
      "    plt.tight_layout()\n",
      "    plt.ylabel('True label')\n",
      "    plt.xlabel('Predicted label')\n",
      "\n",
      "# Compute confusion matrix\n",
      "cnf_matrix = confusion_matrix(y_test, y_pred)\n",
      "np.set_printoptions(precision=2)\n",
      "\n",
      "# Plot normalized confusion matrix\n",
      "plt.figure()\n",
      "plot_confusion_matrix(cnf_matrix, classes=class_names, normalize=True,\n",
      "                      title='Normalized confusion matrix')\n",
      "\n",
      "plt.show()"
     ],
     "language": "python",
     "metadata": {},
     "outputs": [
      {
       "ename": "NameError",
       "evalue": "name 'model2' is not defined",
       "output_type": "pyerr",
       "traceback": [
        "\u001b[0;31m---------------------------------------------------------------------------\u001b[0m\n\u001b[0;31mNameError\u001b[0m                                 Traceback (most recent call last)",
        "\u001b[0;32m<ipython-input-62-4f501f3e59cd>\u001b[0m in \u001b[0;36m<module>\u001b[0;34m()\u001b[0m\n\u001b[1;32m      2\u001b[0m \u001b[0;32mimport\u001b[0m \u001b[0mitertools\u001b[0m\u001b[0;34m\u001b[0m\u001b[0m\n\u001b[1;32m      3\u001b[0m \u001b[0;34m\u001b[0m\u001b[0m\n\u001b[0;32m----> 4\u001b[0;31m \u001b[0mz_pred\u001b[0m \u001b[0;34m=\u001b[0m \u001b[0mmodel2\u001b[0m\u001b[0;34m.\u001b[0m\u001b[0mpredict\u001b[0m\u001b[0;34m(\u001b[0m\u001b[0mx_test\u001b[0m\u001b[0;34m)\u001b[0m\u001b[0;34m\u001b[0m\u001b[0m\n\u001b[0m\u001b[1;32m      5\u001b[0m \u001b[0my_pred\u001b[0m \u001b[0;34m=\u001b[0m \u001b[0mnp\u001b[0m\u001b[0;34m.\u001b[0m\u001b[0margmax\u001b[0m\u001b[0;34m(\u001b[0m\u001b[0mz_pred\u001b[0m\u001b[0;34m,\u001b[0m\u001b[0maxis\u001b[0m\u001b[0;34m=\u001b[0m\u001b[0;36m1\u001b[0m\u001b[0;34m)\u001b[0m\u001b[0;34m\u001b[0m\u001b[0m\n\u001b[1;32m      6\u001b[0m \u001b[0;34m\u001b[0m\u001b[0m\n",
        "\u001b[0;31mNameError\u001b[0m: name 'model2' is not defined"
       ]
      }
     ],
     "prompt_number": 62
    },
    {
     "cell_type": "markdown",
     "metadata": {
      "collapsed": true
     },
     "source": [
      "To conclude, an overview of results obtained with different methodologies can be found here: https://rodrigob.github.io/are_we_there_yet/build/classification_datasets_results."
     ]
    }
   ],
   "metadata": {}
  }
 ]
}